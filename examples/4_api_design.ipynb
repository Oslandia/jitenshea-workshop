{
 "cells": [
  {
   "cell_type": "markdown",
   "metadata": {},
   "source": [
    "# Data rendering"
   ]
  },
  {
   "cell_type": "markdown",
   "metadata": {},
   "source": [
    "In previous steps of our analysis, we have populated a database with some typical open data and enhanced it with home-made clustering analysis. Now comes the time of preparing access to our handsome database!"
   ]
  },
  {
   "cell_type": "markdown",
   "metadata": {},
   "source": [
    "For each rendered data, the objective is to produce a `json` version of the information, that will be sent downstream to API clients."
   ]
  },
  {
   "cell_type": "markdown",
   "metadata": {},
   "source": [
    "## Introduction"
   ]
  },
  {
   "cell_type": "code",
   "execution_count": null,
   "metadata": {},
   "outputs": [],
   "source": [
    "from datetime import datetime, date, timedelta\n",
    "from dateutil.parser import parse\n",
    "from itertools import groupby\n",
    "import json\n",
    "import os"
   ]
  },
  {
   "cell_type": "code",
   "execution_count": null,
   "metadata": {},
   "outputs": [],
   "source": [
    "import pandas as pd\n",
    "from sqlalchemy import create_engine"
   ]
  },
  {
   "cell_type": "markdown",
   "metadata": {},
   "source": [
    "## Configuration"
   ]
  },
  {
   "cell_type": "code",
   "execution_count": null,
   "metadata": {},
   "outputs": [],
   "source": [
    "DATADIR = \"../data\""
   ]
  },
  {
   "cell_type": "code",
   "execution_count": null,
   "metadata": {},
   "outputs": [],
   "source": [
    "HOST = \"localhost\"\n",
    "PORT = 5432\n",
    "USER = \"osboxes\"\n",
    "DBNAME = \"jitenshea\""
   ]
  },
  {
   "cell_type": "markdown",
   "metadata": {},
   "source": [
    "## Utilities"
   ]
  },
  {
   "cell_type": "code",
   "execution_count": null,
   "metadata": {},
   "outputs": [],
   "source": [
    "def get_engine():\n",
    "    url = \"postgresql://{user}@{host}:{port}/{dbname}\".format(user=USER, host=HOST, port=PORT, dbname=DBNAME)\n",
    "    return create_engine(url)\n",
    "engine = get_engine()"
   ]
  },
  {
   "cell_type": "code",
   "execution_count": null,
   "metadata": {},
   "outputs": [],
   "source": [
    "def station_geojson(stations, feature_list):\n",
    "    \"\"\"Process station data into GeoJSON\n",
    "    \"\"\"\n",
    "    result = []\n",
    "    for data in stations:\n",
    "        result.append(\n",
    "            {\"type\": \"Feature\",\n",
    "             \"geometry\": {\n",
    "                 \"type\": \"Point\",\n",
    "                 \"coordinates\": [data['x'], data['y']]\n",
    "             },\n",
    "             \"properties\": {k: data[k] for k in feature_list}\n",
    "            })\n",
    "    return {\"type\": \"FeatureCollection\", \"features\": result}"
   ]
  },
  {
   "cell_type": "code",
   "execution_count": null,
   "metadata": {},
   "outputs": [],
   "source": [
    "def clustered_station_geojson(stations):\n",
    "    \"\"\"Process station data into GeoJSON\n",
    "\n",
    "    Parameters\n",
    "    ----------\n",
    "    stations : list of dicts\n",
    "        Clustered stations\n",
    "\n",
    "    Returns\n",
    "    -------\n",
    "    dict\n",
    "        Clustered stations formatted as a GeoJSon object\n",
    "    \"\"\"\n",
    "    result = []\n",
    "    for data in stations:\n",
    "        result.append(\n",
    "            {\"type\": \"Feature\",\n",
    "             \"geometry\": {\n",
    "                 \"type\": \"Point\",\n",
    "                 \"coordinates\": [data['x'], data['y']]\n",
    "             },\n",
    "             \"properties\": {\n",
    "                 \"id\": data['id'],\n",
    "                 \"cluster_id\": data['cluster_id'],\n",
    "                 \"name\": data['name'],\n",
    "                 \"start\": data['start'],\n",
    "                 \"stop\": data['stop']\n",
    "             }})\n",
    "    return {\"type\": \"FeatureCollection\", \"features\": result}"
   ]
  },
  {
   "cell_type": "code",
   "execution_count": null,
   "metadata": {},
   "outputs": [],
   "source": [
    "def parse_timestamp(str_timestamp):\n",
    "    \"\"\"Parse a string and convert it to a datetime\n",
    "\n",
    "    ISO 8601 format, i.e.\n",
    "      - YYYY-MM-DD\n",
    "      - YYYY-MM-DDThh\n",
    "      - YYYY-MM-DDThhmm\n",
    "    \"\"\"\n",
    "    try:\n",
    "        dt = parse(str_timestamp)\n",
    "    except Exception as e:\n",
    "        api.abort(422, \"date from the request cannot be parsed: {}\".format(e))\n",
    "    return dt"
   ]
  },
  {
   "cell_type": "markdown",
   "metadata": {},
   "source": [
    "## Render the station list"
   ]
  },
  {
   "cell_type": "markdown",
   "metadata": {},
   "source": [
    "*Use case:* A user wants to have information about two stations, assuming that he knows the station IDs"
   ]
  },
  {
   "cell_type": "code",
   "execution_count": null,
   "metadata": {},
   "outputs": [],
   "source": [
    "ids = [10001, 10002]"
   ]
  },
  {
   "cell_type": "markdown",
   "metadata": {},
   "source": [
    "One simply has to define a `select` query to retrieve the station data..."
   ]
  },
  {
   "cell_type": "code",
   "execution_count": null,
   "metadata": {},
   "outputs": [],
   "source": [
    "station_query = \"\"\"\n",
    "SELECT id, name, address, city, nb_stands, ST_X(geom) as x, ST_Y(geom) as y\n",
    "FROM lyon.station\n",
    "WHERE id IN %(id_list)s\n",
    "\"\"\""
   ]
  },
  {
   "cell_type": "code",
   "execution_count": null,
   "metadata": {},
   "outputs": [],
   "source": [
    "rset = engine.execute(station_query, id_list=tuple(str(x) for x in ids)).fetchall()"
   ]
  },
  {
   "cell_type": "markdown",
   "metadata": {},
   "source": [
    "One gets a list of rows that correspond to asked IDs."
   ]
  },
  {
   "cell_type": "code",
   "execution_count": null,
   "metadata": {},
   "outputs": [],
   "source": [
    "rset"
   ]
  },
  {
   "cell_type": "markdown",
   "metadata": {},
   "source": [
    "The only remaining work is to tune the data format so as to get a `json`-compatible version of the data:"
   ]
  },
  {
   "cell_type": "code",
   "execution_count": null,
   "metadata": {},
   "outputs": [],
   "source": [
    "{\"data\": [dict(zip(x.keys(), x)) for x in rset]}"
   ]
  },
  {
   "cell_type": "markdown",
   "metadata": {},
   "source": [
    "In a nutshell, we design a function to reproduce the results within the API:"
   ]
  },
  {
   "cell_type": "code",
   "execution_count": null,
   "metadata": {},
   "outputs": [],
   "source": [
    "def render_station_list(ids):\n",
    "    station_query = \"\"\"\n",
    "SELECT id, name, address, city, nb_stands, ST_X(geom) as x, ST_Y(geom) as y\n",
    "FROM lyon.station\n",
    "WHERE id IN %(id_list)s\n",
    "\"\"\"\n",
    "    rset = engine.execute(station_query, id_list=tuple(str(x) for x in ids)).fetchall()\n",
    "    return {\"data\": [dict(zip(x.keys(), x)) for x in rset]}"
   ]
  },
  {
   "cell_type": "markdown",
   "metadata": {},
   "source": [
    "## Render the freshest bike availability status "
   ]
  },
  {
   "cell_type": "markdown",
   "metadata": {},
   "source": [
    "*Use case:* A user wants to get the up-to-date availability data in the bike-sharing network."
   ]
  },
  {
   "cell_type": "code",
   "execution_count": null,
   "metadata": {},
   "outputs": [],
   "source": [
    "freshest_avl_query = \"\"\"\n",
    "WITH latest AS (\n",
    "SELECT id, timestamp, available_bikes as nb_bikes, rank() over (partition by id order by timestamp desc) AS rank\n",
    "FROM lyon.timeseries\n",
    "WHERE timestamp >= %(min_date)s\n",
    ")\n",
    "SELECT\n",
    "P.id, P.timestamp, P.nb_bikes, S.name, S.nb_stands, ST_X(S.geom) AS x, ST_Y(S.geom) AS y\n",
    "FROM latest AS P\n",
    "JOIN lyon.station AS S USING(id)\n",
    "WHERE P.rank=1\n",
    "ORDER BY id\n",
    "LIMIT %(limit)s\n",
    "\"\"\""
   ]
  },
  {
   "cell_type": "code",
   "execution_count": null,
   "metadata": {},
   "outputs": [],
   "source": [
    "min_date = datetime.now() - timedelta(2)\n",
    "limit = 3\n",
    "rset = engine.execute(freshest_avl_query, min_date=min_date, limit=limit)\n",
    "freshest_avl_result = [dict(zip(row.keys(), row)) for row in rset]\n",
    "latest_date = max(x[\"timestamp\"] for x in freshest_avl_result)"
   ]
  },
  {
   "cell_type": "code",
   "execution_count": null,
   "metadata": {},
   "outputs": [],
   "source": [
    "{\"date\": latest_date, \"data\": freshest_avl_result}"
   ]
  },
  {
   "cell_type": "markdown",
   "metadata": {},
   "source": [
    "Instead of rendering `x` and `y` coordinates as classic features, one can use `geojson` format in order to provide a geotool-compatible format:"
   ]
  },
  {
   "cell_type": "code",
   "execution_count": null,
   "metadata": {},
   "outputs": [],
   "source": [
    "station_geojson(freshest_avl_result, feature_list=['id', 'name', 'timestamp', 'nb_bikes', 'nb_stands'])"
   ]
  },
  {
   "cell_type": "markdown",
   "metadata": {},
   "source": [
    "In a nutshell, we design another function to reproduce the results within the API:"
   ]
  },
  {
   "cell_type": "code",
   "execution_count": null,
   "metadata": {},
   "outputs": [],
   "source": [
    "def render_availability(limit, n_day_before):\n",
    "    freshest_avl_query = \"\"\"\n",
    "WITH latest AS (\n",
    "SELECT id, timestamp, available_bikes as nb_bikes, rank() over (partition by id order by timestamp desc) AS rank\n",
    "FROM lyon.timeseries\n",
    "WHERE timestamp >= %(min_date)s\n",
    ")\n",
    "SELECT\n",
    "P.id, P.timestamp, P.nb_bikes, S.name, S.nb_stands, ST_X(S.geom) AS x, ST_Y(S.geom) AS y\n",
    "FROM latest AS P\n",
    "JOIN lyon.station AS S USING(id)\n",
    "WHERE P.rank=1\n",
    "ORDER BY id\n",
    "LIMIT %(limit)s\n",
    "\"\"\"\n",
    "    min_date = datetime.now() - timedelta(n_day_before)\n",
    "    rset = engine.execute(freshest_avl_query, min_date=min_date, limit=limit)\n",
    "    result = [dict(zip(row.keys(), row)) for row in rset]\n",
    "    latest_date = max(x[\"timestamp\"] for x in result)\n",
    "    # return {\"date\": latest_date, \"data\": freshest_avl_result}\n",
    "    return station_geojson(result, feature_list=['id', 'name', 'timestamp', 'nb_bikes', 'nb_stands'])"
   ]
  },
  {
   "cell_type": "markdown",
   "metadata": {},
   "source": [
    "## Render a bike availability timeseries"
   ]
  },
  {
   "cell_type": "markdown",
   "metadata": {},
   "source": [
    "*Use case:* A user wants to get the history of bike availability on a given station, between two dates."
   ]
  },
  {
   "cell_type": "code",
   "execution_count": null,
   "metadata": {},
   "outputs": [],
   "source": [
    "station_ids = [1001]\n",
    "stop = datetime(2019, 8, 12, 10, 0)\n",
    "start = stop - timedelta(hours=1)\n",
    "start, stop"
   ]
  },
  {
   "cell_type": "code",
   "execution_count": null,
   "metadata": {},
   "outputs": [],
   "source": [
    "timeseries_query = \"\"\"\n",
    "SELECT T.*, S.name AS name, S.nb_stands AS nb_stands\n",
    "FROM lyon.timeseries AS T\n",
    "LEFT JOIN lyon.station AS S USING(id)\n",
    "WHERE id IN %(id_list)s AND timestamp >= %(start)s AND timestamp < %(stop)s\n",
    "ORDER BY id, timestamp\n",
    "\"\"\"    "
   ]
  },
  {
   "cell_type": "code",
   "execution_count": null,
   "metadata": {},
   "outputs": [],
   "source": [
    "rset = engine.execute(timeseries_query, id_list=tuple(str(x) for x in station_ids), start=start, stop=stop)\n",
    "data = [dict(zip(x.keys(), x)) for x in rset]\n",
    "values = []\n",
    "for k, group in groupby(data, lambda x: x['id']):\n",
    "    group = list(group)\n",
    "    values.append({\n",
    "        \"id\": k,\n",
    "        \"name\": group[0]['name'],\n",
    "        \"nb_stands\": group[0]['nb_stands'],\n",
    "        \"ts\": [x['timestamp'] for x in group],\n",
    "        \"available_bikes\": [x['available_bikes'] for x in group]\n",
    "    })\n",
    "{\"data\": values}"
   ]
  },
  {
   "cell_type": "markdown",
   "metadata": {},
   "source": [
    "In a nutshell, the rendering function:"
   ]
  },
  {
   "cell_type": "code",
   "execution_count": null,
   "metadata": {},
   "outputs": [],
   "source": [
    "def render_timeseries(station_ids, start, stop):\n",
    "    timeseries_query = \"\"\"\n",
    "SELECT T.*, S.name AS name, S.nb_stands AS nb_stands\n",
    "FROM lyon.timeseries AS T\n",
    "LEFT JOIN lyon.station AS S USING(id)\n",
    "WHERE id IN %(id_list)s AND timestamp >= %(start)s AND timestamp < %(stop)s\n",
    "ORDER BY id, timestamp\n",
    "\"\"\"\n",
    "    rset = engine.execute(timeseries_query, id_list=tuple(str(x) for x in station_ids), start=start, stop=stop)\n",
    "    data = [dict(zip(x.keys(), x)) for x in rset]\n",
    "    values = []\n",
    "    for k, group in groupby(data, lambda x: x['id']):\n",
    "        group = list(group)\n",
    "        values.append({\n",
    "            \"id\": k,\n",
    "            \"name\": group[0]['name'],\n",
    "            \"nb_stands\": group[0]['nb_stands'],\n",
    "            \"ts\": [x['timestamp'] for x in group],\n",
    "            \"available_bikes\": [x['available_bikes'] for x in group]\n",
    "        })\n",
    "    return {\"data\": values}"
   ]
  },
  {
   "cell_type": "markdown",
   "metadata": {},
   "source": [
    "## Render the station clusters"
   ]
  },
  {
   "cell_type": "markdown",
   "metadata": {},
   "source": [
    "*Use case:* A user wants to recover the classification of shared-bike stations in Lyon."
   ]
  },
  {
   "cell_type": "code",
   "execution_count": null,
   "metadata": {},
   "outputs": [],
   "source": [
    "cluster_query = \"\"\"\n",
    "WITH ranked_clusters AS (\n",
    "SELECT\n",
    "cs.station_id AS id,\n",
    "cs.cluster_id,\n",
    "cs.start AS start,\n",
    "cs.stop AS stop,\n",
    "st.name AS name,\n",
    "st.geom AS geom,\n",
    "rank() OVER (ORDER BY stop DESC) AS rank\n",
    "FROM lyon.cluster AS cs\n",
    "JOIN lyon.station AS st\n",
    "ON st.id = cs.station_id)\n",
    "SELECT id, cluster_id, start, stop, name,\n",
    "st_x(geom) as x,\n",
    "st_y(geom) as y\n",
    "FROM ranked_clusters\n",
    "WHERE rank=1\n",
    "\"\"\""
   ]
  },
  {
   "cell_type": "code",
   "execution_count": null,
   "metadata": {},
   "outputs": [],
   "source": [
    "rset = engine.execute(cluster_query)\n",
    "data = {\"data\": [dict(zip(rset.keys(), row)) for row in rset]}"
   ]
  },
  {
   "cell_type": "markdown",
   "metadata": {},
   "source": [
    "Similarly to the availability data, we get some `(x,y)` points, hence we can propose a `geojson` version of the data."
   ]
  },
  {
   "cell_type": "code",
   "execution_count": null,
   "metadata": {},
   "outputs": [],
   "source": [
    "clustered_station_geojson(data[\"data\"])"
   ]
  },
  {
   "cell_type": "markdown",
   "metadata": {},
   "source": [
    "As previously, we propose a rendering function:"
   ]
  },
  {
   "cell_type": "code",
   "execution_count": null,
   "metadata": {},
   "outputs": [],
   "source": [
    "def render_clusters():\n",
    "    cluster_query = \"\"\"\n",
    "WITH ranked_clusters AS (\n",
    "SELECT\n",
    "cs.station_id AS id,\n",
    "cs.cluster_id,\n",
    "cs.start AS start,\n",
    "cs.stop AS stop,\n",
    "st.name AS name,\n",
    "st.geom AS geom,\n",
    "rank() OVER (ORDER BY stop DESC) AS rank\n",
    "FROM lyon.cluster AS cs\n",
    "JOIN lyon.station AS st\n",
    "ON st.id = cs.station_id)\n",
    "SELECT id, cluster_id, start, stop, name,\n",
    "st_x(geom) as x,\n",
    "st_y(geom) as y\n",
    "FROM ranked_clusters\n",
    "WHERE rank=1\n",
    "\"\"\"\n",
    "    rset = engine.execute(cluster_query)\n",
    "    data = {\"data\": [dict(zip(rset.keys(), row)) for row in rset]}\n",
    "    # return data\n",
    "    return clustered_station_geojson(data[\"data\"])"
   ]
  },
  {
   "cell_type": "markdown",
   "metadata": {},
   "source": [
    "## Render the station cluster centroids"
   ]
  },
  {
   "cell_type": "markdown",
   "metadata": {},
   "source": [
    "*Use case:* A user would like to extract the typical week day profile of clustered stations in Lyon."
   ]
  },
  {
   "cell_type": "markdown",
   "metadata": {},
   "source": [
    "As several clustering may have be computed, we tune the query in order to get the freshest period output."
   ]
  },
  {
   "cell_type": "code",
   "execution_count": null,
   "metadata": {},
   "outputs": [],
   "source": [
    "centroid_query = \"\"\"\n",
    "WITH ranked_centroids AS (\n",
    "SELECT *, rank() OVER (ORDER BY stop DESC) AS rank\n",
    "FROM lyon.centroid\n",
    ")\n",
    "SELECT cluster_id,\n",
    "h00, h01, h02, h03, h04, h05, h06, h07, h08, h09, h10, h11,\n",
    "h12, h13, h14, h15, h16, h17, h18, h19, h20, h21, h22, h23,\n",
    "start, stop\n",
    "FROM ranked_centroids\n",
    "WHERE rank=1\n",
    "\"\"\""
   ]
  },
  {
   "cell_type": "code",
   "execution_count": null,
   "metadata": {},
   "outputs": [],
   "source": [
    "centroids = pd.io.sql.read_sql_query(centroid_query, engine)"
   ]
  },
  {
   "cell_type": "code",
   "execution_count": null,
   "metadata": {},
   "outputs": [],
   "source": [
    "centroids.set_index(\"cluster_id\", inplace=True)"
   ]
  },
  {
   "cell_type": "code",
   "execution_count": null,
   "metadata": {},
   "outputs": [],
   "source": [
    "centroid_result = []\n",
    "for cluster_id, cluster in centroids.iterrows():\n",
    "    centroid_result.append({\n",
    "        \"cluster_id\": cluster_id,\n",
    "        \"start\": cluster[\"start\"],\n",
    "        \"stop\": cluster[\"stop\"],\n",
    "        \"hour\": list(range(24)),\n",
    "        \"values\": [cluster[h] for h in centroids.columns[:-2]]\n",
    "    })"
   ]
  },
  {
   "cell_type": "code",
   "execution_count": null,
   "metadata": {},
   "outputs": [],
   "source": [
    "{\"data\": centroid_result}"
   ]
  },
  {
   "cell_type": "code",
   "execution_count": null,
   "metadata": {},
   "outputs": [],
   "source": [
    "def render_centroids():\n",
    "    centroid_query = \"\"\"\n",
    "WITH ranked_centroids AS (\n",
    "SELECT *, rank() OVER (ORDER BY stop DESC) AS rank\n",
    "FROM lyon.centroid\n",
    ")\n",
    "SELECT cluster_id,\n",
    "h00, h01, h02, h03, h04, h05, h06, h07, h08, h09, h10, h11,\n",
    "h12, h13, h14, h15, h16, h17, h18, h19, h20, h21, h22, h23,\n",
    "start, stop\n",
    "FROM ranked_centroids\n",
    "WHERE rank=1\n",
    "\"\"\"\n",
    "    centroids = pd.io.sql.read_sql_query(centroid_query, engine)\n",
    "    centroids.set_index(\"cluster_id\", inplace=True)\n",
    "    centroid_result = []\n",
    "    for cluster_id, cluster in centroids.iterrows():\n",
    "        centroid_result.append({\n",
    "            \"cluster_id\": cluster_id,\n",
    "            \"start\": cluster[\"start\"],\n",
    "            \"stop\": cluster[\"stop\"],\n",
    "            \"hour\": list(range(24)),\n",
    "            \"values\": [cluster[h] for h in centroids.columns[:-2]]\n",
    "        })\n",
    "    return {\"data\": centroid_result}"
   ]
  },
  {
   "cell_type": "markdown",
   "metadata": {},
   "source": [
    "## Build the API"
   ]
  },
  {
   "cell_type": "code",
   "execution_count": null,
   "metadata": {},
   "outputs": [],
   "source": [
    "from flask import jsonify, Flask, render_template\n",
    "from flask_restplus import inputs, Resource, Api\n",
    "from werkzeug.routing import BaseConverter"
   ]
  },
  {
   "cell_type": "code",
   "execution_count": null,
   "metadata": {},
   "outputs": [],
   "source": [
    "from jitenshop.webapp import CustomJSONEncoder, ListConverter"
   ]
  },
  {
   "cell_type": "code",
   "execution_count": null,
   "metadata": {},
   "outputs": [],
   "source": [
    "api = Api(\n",
    "    title=\"jitenshop: small bike-sharing data analysis\",\n",
    "    prefix=\"/api\",\n",
    "    doc=False,\n",
    "    version=\"0.1\",\n",
    "    description=\"get some simple bike-sharing data from Lyon Open Data portal\"\n",
    ")"
   ]
  },
  {
   "cell_type": "code",
   "execution_count": null,
   "metadata": {},
   "outputs": [],
   "source": [
    "availability_parser = api.parser()\n",
    "availability_parser.add_argument(\n",
    "    \"limit\", required=False, type=int, default=1000, dest=\"limit\", location=\"args\",\n",
    "    help=\"Number of station to query\"\n",
    ")\n",
    "availability_parser.add_argument(\n",
    "    \"n_days_before\", required=False, type=int, default=365, dest=\"n_days_before\", location=\"args\",\n",
    "    help=\"Number of days to query before today\"\n",
    ")\n",
    "@api.route(\"/lyon/availability\")\n",
    "class CityStationList(Resource):\n",
    "    @api.doc(parser=availability_parser, description=\"Latest bike availability at stations\")\n",
    "    def get(self):\n",
    "        args = availability_parser.parse_args()\n",
    "        limit = args[\"limit\"]\n",
    "        n_days_before = args[\"n_days_before\"]\n",
    "        return jsonify(render_availability(limit, n_days_before))"
   ]
  },
  {
   "cell_type": "code",
   "execution_count": null,
   "metadata": {},
   "outputs": [],
   "source": [
    "@api.route(\"/lyon/stations/<list:ids>\")\n",
    "class CityStation(Resource):\n",
    "    @api.doc(description=\"Shared-bike stations\")\n",
    "    def get(self, ids):\n",
    "        return jsonify(render_station_list(ids))"
   ]
  },
  {
   "cell_type": "code",
   "execution_count": null,
   "metadata": {},
   "outputs": [],
   "source": [
    "timeseries_parser = api.parser()\n",
    "timeseries_parser.add_argument(\n",
    "    \"start\", required=True, dest=\"start\", location=\"args\",\n",
    "    help=\"Start date YYYY-MM-DDThhmm\"\n",
    ")\n",
    "timeseries_parser.add_argument(\n",
    "    \"stop\", required=True, dest=\"stop\", location=\"args\",\n",
    "    help=\"Stop date YYYY-MM-DDThhmm\"\n",
    ")\n",
    "@api.route(\"/lyon/timeseries/<list:ids>\")\n",
    "class TimeseriesStation(Resource):\n",
    "    \"\"\"Render the bike availability timeseries in Lyon between two dates of\n",
    "    interest\n",
    "    \"\"\"\n",
    "    @api.doc(parser=timeseries_parser,\n",
    "             description=\"Bike availability timeseries\")\n",
    "    def get(self, ids):\n",
    "        args = timeseries_parser.parse_args()\n",
    "        start = parse_timestamp(args['start'])\n",
    "        stop = parse_timestamp(args['stop'])\n",
    "        return jsonify(render_timeseries(ids, start, stop))"
   ]
  },
  {
   "cell_type": "code",
   "execution_count": null,
   "metadata": {},
   "outputs": [],
   "source": [
    "@api.route(\"/lyon/clusters\")\n",
    "class CityClusteredStation(Resource):\n",
    "    @api.doc(description=\"Clustered stations according to k-means algorithm\")\n",
    "    def get(self):\n",
    "        return jsonify(render_clusters())\n",
    "\n",
    "@api.route(\"/lyon/centroids\")\n",
    "class CityClusterCentroids(Resource):\n",
    "    @api.doc(description=\"Centroids of k-means clusters\")\n",
    "    def get(self):\n",
    "        return jsonify(render_centroids())"
   ]
  },
  {
   "cell_type": "markdown",
   "metadata": {},
   "source": [
    "## Build the web application with Flask"
   ]
  },
  {
   "cell_type": "code",
   "execution_count": null,
   "metadata": {},
   "outputs": [],
   "source": [
    "app = Flask(\n",
    "    __name__,\n",
    "    template_folder=\"../jitenshop/webapp/templates\",\n",
    ")\n",
    "app.url_map.converters['list'] = ListConverter\n",
    "app.json_encoder = CustomJSONEncoder"
   ]
  },
  {
   "cell_type": "code",
   "execution_count": null,
   "metadata": {},
   "outputs": [],
   "source": [
    "@app.route(\"/\")\n",
    "def index():\n",
    "    return render_template(\"index.html\")\n",
    "@app.route(\"/doc\")\n",
    "def swagger_ui():\n",
    "    return render_template(\"swagger-ui.html\")\n",
    "@app.route(\"/lyon\")\n",
    "def city_view():\n",
    "    return render_template(\"city.html\")\n",
    "@app.route(\"/lyon/<int:station_id>\")\n",
    "def station_view(station_id):\n",
    "    return render_template(\"station.html\", station_id=station_id)"
   ]
  },
  {
   "cell_type": "code",
   "execution_count": null,
   "metadata": {},
   "outputs": [],
   "source": [
    "api.init_app(app)\n",
    "app.run(port=7997)"
   ]
  }
 ],
 "metadata": {
  "kernelspec": {
   "display_name": "Python 3",
   "language": "python",
   "name": "python3"
  },
  "language_info": {
   "codemirror_mode": {
    "name": "ipython",
    "version": 3
   },
   "file_extension": ".py",
   "mimetype": "text/x-python",
   "name": "python",
   "nbconvert_exporter": "python",
   "pygments_lexer": "ipython3",
   "version": "3.6.5"
  }
 },
 "nbformat": 4,
 "nbformat_minor": 2
}

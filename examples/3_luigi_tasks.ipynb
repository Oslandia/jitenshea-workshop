{
 "cells": [
  {
   "cell_type": "markdown",
   "metadata": {},
   "source": [
    "# Running Luigi task"
   ]
  },
  {
   "cell_type": "markdown",
   "metadata": {},
   "source": [
    "This notebook will detail the different tasks that may be run in this project, using Luigi."
   ]
  },
  {
   "cell_type": "markdown",
   "metadata": {},
   "source": [
    "We won't run any Python code cell here, but list the shell command that can be written in order to execute each previous steps."
   ]
  },
  {
   "cell_type": "markdown",
   "metadata": {},
   "source": [
    "As a remainder before to detail the Luigi-related command, let focus on the source code organization:\n",
    "- jitenshop/\n",
    "  - tasks/\n",
    "    - __init__.py\n",
    "    - db.py\n",
    "    - stations.py\n",
    "    - availability.py\n",
    "    - clusters.py\n",
    "  - webapp/\n",
    "  - __init__.py\n",
    "  - controller.py\n",
    "  - iodb.py\n",
    "  - config.ini.sample\n",
    "  - (config.ini)"
   ]
  },
  {
   "cell_type": "markdown",
   "metadata": {},
   "source": [
    "The modules in `jitenshop/tasks` will be of first interest."
   ]
  },
  {
   "cell_type": "markdown",
   "metadata": {},
   "source": [
    "## Database management"
   ]
  },
  {
   "cell_type": "markdown",
   "metadata": {},
   "source": [
    "As a prerequisite to some of our pipeline items, we are supposed to create a scheme to host our data.\n",
    "\n",
    "The according task is located in `jitenshop/tasks/db.py`."
   ]
  },
  {
   "cell_type": "markdown",
   "metadata": {},
   "source": [
    "The command is the following:"
   ]
  },
  {
   "cell_type": "markdown",
   "metadata": {},
   "source": [
    "```\n",
    "python -m luigi --local-scheduler --module jitenshop.tasks.db CreateSchema\n",
    "```"
   ]
  },
  {
   "cell_type": "markdown",
   "metadata": {},
   "source": [
    "## Station data handling"
   ]
  },
  {
   "cell_type": "markdown",
   "metadata": {},
   "source": [
    "As denoted in [the first notebook](./1_data_recovering.ipynb), we are trying to retrieve some shared-bike stations, by :\n",
    "- downloading the data from an Open Data portal as a zip file;\n",
    "- unzipping this archive to get shapefiles;\n",
    "- populating the database with raw station information;\n",
    "- creating a clean station table that will be usable thereafter."
   ]
  },
  {
   "cell_type": "markdown",
   "metadata": {},
   "source": [
    "Each of these step can be done through a dedicated task, amongst : `DownloadShapefile`, `UnzipShapeFile`, `ShapefileIntoDB` and `NormalizeStationTable`."
   ]
  },
  {
   "cell_type": "markdown",
   "metadata": {},
   "source": [
    "The pipeline follows a linear structure between all these steps, hence one may guarantee that everything is done by the following command:\n",
    "```\n",
    "python -m luigi --local-scheduler --module jitenshop.tasks.stations NormalizeStationTable\n",
    "```\n",
    "By doing so, we build the table `lyon.station`, the output of this part of the pipeline."
   ]
  },
  {
   "cell_type": "markdown",
   "metadata": {},
   "source": [
    "## Availability data handling"
   ]
  },
  {
   "cell_type": "markdown",
   "metadata": {},
   "source": [
    "Then in [the first notebook](./1_data_recovering.ipynb), we recover the availability data as well. We saw that two manners of doing such a thing are possible:\n",
    "- retrieve the bike availability data in real-time by requesting the Open Data portal each 5 minutes (for instance);\n",
    "- or retrieve the last week of data for demonstration or test purpose."
   ]
  },
  {
   "cell_type": "markdown",
   "metadata": {},
   "source": [
    "In both cases, we have to :\n",
    "- download the data;\n",
    "- save it in a developer-friendly format like `.csv`;\n",
    "- store it into the database."
   ]
  },
  {
   "cell_type": "markdown",
   "metadata": {},
   "source": [
    "The corresponding tasks are :\n",
    "- `RealTimeAvailability`, `RealTimeAvailabilityToCSV`, and `RealTimeAvailabilityToDB` in the first scenario;\n",
    "- `Availability`, `AvailabilityToCSV` and `AvailabilityToDB` in the second scenario."
   ]
  },
  {
   "cell_type": "markdown",
   "metadata": {},
   "source": [
    "During this workshop, we can focus on the last task:\n",
    "```\n",
    "python -m luigi --local-scheduler --module jitenshop.tasks.availability AvailabilityToDB --start 2019-08-22 --stop 2019-08-24\n",
    "```"
   ]
  },
  {
   "cell_type": "markdown",
   "metadata": {},
   "source": [
    "At the end of this step, we've got shared-bike availability at each Lyon station between indicated time window."
   ]
  },
  {
   "cell_type": "markdown",
   "metadata": {},
   "source": [
    "## Clustering data creation"
   ]
  },
  {
   "cell_type": "markdown",
   "metadata": {},
   "source": [
    "The last important step of this data pipeline in the workshop scope is the clustering of Lyon shared-bike stations. In this purpose, we had to:\n",
    "- compute the clusters;\n",
    "- store the clustered stations into the database;\n",
    "- store the typical week day profiles (cluster centroids) into the database."
   ]
  },
  {
   "cell_type": "markdown",
   "metadata": {},
   "source": [
    "The three corresponding tasks in `jitenshop.tasks.clusters` are `ComputeClusters`, `StoreClustersToDatabase`, `StoreCentroidsToDatabase`. The last two ones are independant from each other (although they both have the first one as a dependency). Consequently, we have to run both commands to complete the clustering process:\n",
    "```\n",
    "python -m luigi --local-scheduler --module jitenshop.tasks.clusters StoreClustersToDatabase --n-clusters 4 --start 2019-08-22 --stop 2019-08-24\n",
    "python -m luigi --local-scheduler --module jitenshop.tasks.clusters StoreCentroidsToDatabase --n-clusters 4 --start 2019-08-22 --stop 2019-08-24\n",
    "```"
   ]
  },
  {
   "cell_type": "markdown",
   "metadata": {},
   "source": [
    "After succeeding these tasks, we've stored clusters and centroids into the database."
   ]
  },
  {
   "cell_type": "markdown",
   "metadata": {},
   "source": [
    "## TD;LR"
   ]
  },
  {
   "cell_type": "markdown",
   "metadata": {},
   "source": [
    "A final task that takes all the process in charge is located in `jitenshop/tasks/main`. It declares as dependencies `AvailabilityToDB`, `StoreClustersToDatabase` and `StoreCentroidsToDatabase`. We run it with the following command:\n",
    "```\n",
    "python -m luigi --local-scheduler --module jitenshop.tasks.main Finalize\n",
    "```"
   ]
  },
  {
   "cell_type": "markdown",
   "metadata": {},
   "source": [
    "This task ensures the database is ready to use, for instance in a web application!"
   ]
  },
  {
   "cell_type": "markdown",
   "metadata": {},
   "source": [
    "## Server mode"
   ]
  },
  {
   "cell_type": "markdown",
   "metadata": {},
   "source": [
    "The Luigi tasks may be launched with a server. Until now, we used the `--local-scheduler` argument, that executed pipeline locally."
   ]
  },
  {
   "cell_type": "markdown",
   "metadata": {},
   "source": [
    "We can do the same by using the luigi daemon (*warning:* requires `python-daemon`):\n",
    "```\n",
    "luigid --background --logdir ./log\n",
    "```"
   ]
  },
  {
   "cell_type": "markdown",
   "metadata": {},
   "source": [
    "And then, we can run the task of our choice:\n",
    "```\n",
    "python -m luigi --module jitenshop.tasks.main Finalize\n",
    "```"
   ]
  },
  {
   "cell_type": "markdown",
   "metadata": {},
   "source": [
    "With this mode, one can have more information about our pipeline, especially in production environments. As an example, one may get a fancy visualization of our pipeline:"
   ]
  },
  {
   "cell_type": "markdown",
   "metadata": {},
   "source": [
    "![fancy_luigi_diagram](../img/luigi-pipeline.png)"
   ]
  },
  {
   "cell_type": "markdown",
   "metadata": {},
   "source": [
    "For more details, see [official documentation](https://luigi.readthedocs.io/en/stable/central_scheduler.html?highlight=daemon#the-luigid-server)."
   ]
  }
 ],
 "metadata": {
  "kernelspec": {
   "display_name": "Python 3",
   "language": "python",
   "name": "python3"
  },
  "language_info": {
   "codemirror_mode": {
    "name": "ipython",
    "version": 3
   },
   "file_extension": ".py",
   "mimetype": "text/x-python",
   "name": "python",
   "nbconvert_exporter": "python",
   "pygments_lexer": "ipython3",
   "version": "3.6.5"
  }
 },
 "nbformat": 4,
 "nbformat_minor": 2
}

{
 "cells": [
  {
   "cell_type": "markdown",
   "metadata": {},
   "source": [
    "# Data recovering"
   ]
  },
  {
   "cell_type": "markdown",
   "metadata": {},
   "source": [
    "This first notebook aims at retrieving a minimal set of data for running further analysis."
   ]
  },
  {
   "cell_type": "markdown",
   "metadata": {},
   "source": [
    "**Warning:** In these notebooks, we will interact with a database, by adding fresh data. As a wrong move is always possible, an act-first-and-think-then tool that erase data folder and reset the database is provided (see `./resetdb.sh`). Use it with caution! :)"
   ]
  },
  {
   "cell_type": "markdown",
   "metadata": {},
   "source": [
    "## Introduction"
   ]
  },
  {
   "cell_type": "code",
   "execution_count": null,
   "metadata": {},
   "outputs": [],
   "source": [
    "from datetime import datetime, date, timedelta\n",
    "import json\n",
    "import os\n",
    "import subprocess\n",
    "import zipfile"
   ]
  },
  {
   "cell_type": "code",
   "execution_count": null,
   "metadata": {},
   "outputs": [],
   "source": [
    "import fiona\n",
    "import folium\n",
    "import pandas as pd\n",
    "import requests\n",
    "import shapely.geometry\n",
    "from sqlalchemy import create_engine"
   ]
  },
  {
   "cell_type": "markdown",
   "metadata": {},
   "source": [
    "## Configuration"
   ]
  },
  {
   "cell_type": "code",
   "execution_count": null,
   "metadata": {},
   "outputs": [],
   "source": [
    "DATADIR = \"../data\""
   ]
  },
  {
   "cell_type": "code",
   "execution_count": null,
   "metadata": {},
   "outputs": [],
   "source": [
    "os.makedirs(os.path.join(DATADIR, \"lyon\"), exist_ok=True)"
   ]
  },
  {
   "cell_type": "code",
   "execution_count": null,
   "metadata": {},
   "outputs": [],
   "source": [
    "HOST = \"localhost\"\n",
    "PORT = 5432\n",
    "USER = \"rde\"\n",
    "DBNAME = \"jitenshea\""
   ]
  },
  {
   "cell_type": "markdown",
   "metadata": {},
   "source": [
    "## Utilities"
   ]
  },
  {
   "cell_type": "code",
   "execution_count": null,
   "metadata": {},
   "outputs": [],
   "source": [
    "def get_engine():\n",
    "    url = \"postgresql://{user}@{host}:{port}/{dbname}\".format(user=USER, host=HOST, port=PORT, dbname=DBNAME)\n",
    "    return create_engine(url)"
   ]
  },
  {
   "cell_type": "code",
   "execution_count": null,
   "metadata": {},
   "outputs": [],
   "source": [
    "def create_schema(schema):\n",
    "    engine = get_engine()\n",
    "    engine.execute(\"CREATE SCHEMA IF NOT EXISTS {schema};\".format(schema=schema))"
   ]
  },
  {
   "cell_type": "markdown",
   "metadata": {},
   "source": [
    "Be careful to create the `lyon` schema at this step, otherwise further ones will fail..."
   ]
  },
  {
   "cell_type": "code",
   "execution_count": null,
   "metadata": {},
   "outputs": [],
   "source": [
    "engine = get_engine()"
   ]
  },
  {
   "cell_type": "code",
   "execution_count": null,
   "metadata": {},
   "outputs": [],
   "source": [
    "create_schema(\"lyon\")"
   ]
  },
  {
   "cell_type": "markdown",
   "metadata": {},
   "source": [
    "## Retrieve the data"
   ]
  },
  {
   "cell_type": "markdown",
   "metadata": {},
   "source": [
    "### Download the raw station data"
   ]
  },
  {
   "cell_type": "markdown",
   "metadata": {},
   "source": [
    "We download the station information, and save the resulting archive into the data folder:"
   ]
  },
  {
   "cell_type": "code",
   "execution_count": null,
   "metadata": {},
   "outputs": [],
   "source": [
    "archive_path = os.path.join(DATADIR, \"lyon\", \"lyon-stations.zip\")"
   ]
  },
  {
   "cell_type": "code",
   "execution_count": null,
   "metadata": {
    "slideshow": {
     "slide_type": "subslide"
    }
   },
   "outputs": [],
   "source": [
    "LYON_SRID = 3946\n",
    "LYON_STATION_URL = \"https://download.data.grandlyon.com/wfs/grandlyon?SERVICE=WFS&VERSION=2.0.0&outputformat=SHAPEZIP&request=GetFeature&SRSNAME=EPSG:3946&typename=pvo_patrimoine_voirie.pvostationvelov\""
   ]
  },
  {
   "cell_type": "code",
   "execution_count": null,
   "metadata": {},
   "outputs": [],
   "source": [
    "with open(archive_path, \"wb\") as fobj:\n",
    "    resp = requests.get(LYON_STATION_URL)\n",
    "    resp.raise_for_status()\n",
    "    fobj.write(resp.content)"
   ]
  },
  {
   "cell_type": "markdown",
   "metadata": {},
   "source": [
    "### Download bike availability history"
   ]
  },
  {
   "cell_type": "markdown",
   "metadata": {},
   "source": [
    "#### Method 1: Latest records + Cron job"
   ]
  },
  {
   "cell_type": "code",
   "execution_count": null,
   "metadata": {},
   "outputs": [],
   "source": [
    "LYON_REALTIME_URL = \"https://download.data.grandlyon.com/ws/rdata/jcd_jcdecaux.jcdvelov/all.json\""
   ]
  },
  {
   "cell_type": "code",
   "execution_count": null,
   "metadata": {},
   "outputs": [],
   "source": [
    "timestamp = datetime.now()\n",
    "realtime_json_file = timestamp.strftime(\"%HH%MM\")\n",
    "realtime_json_path = os.path.join(DATADIR, \"lyon\", str(timestamp.year), str(timestamp.month), str(timestamp.day), realtime_json_file + \".json\")\n",
    "os.makedirs(os.path.dirname(realtime_json_path), exist_ok=True)\n",
    "print(realtime_json_path)\n",
    "\n",
    "session = requests.Session()\n",
    "resp = session.get(LYON_REALTIME_URL)\n",
    "with open(realtime_json_path, \"w\") as fobj:\n",
    "    json.dump(resp.json(), fobj, ensure_ascii=False)\n",
    "session.close()\n"
   ]
  },
  {
   "cell_type": "markdown",
   "metadata": {},
   "source": [
    "This method provides the freshest bike availability data, hence one could build a really big history by repeating the dump each X minutes (X being a frequency of your choice...).\n",
    "\n",
    "By setting a cron job, this task could be done properly. In your shell:\n",
    "```\n",
    "crontab -e\n",
    "```\n",
    "Then in the crontab file:\n",
    "```\n",
    "# m h  dom mon dow   command\n",
    "*/5 * * * * the-program\n",
    "```\n",
    "This last example would execute `the-program` each 5 minutes, every hour of every day of every month... However it is beyond the scope of this modest workshop!\n",
    "\n",
    "*NOTE:* This is still the best way to get bike-sharing system data, anyway!"
   ]
  },
  {
   "cell_type": "markdown",
   "metadata": {},
   "source": [
    "#### Method 2: It's your birthday!"
   ]
  },
  {
   "cell_type": "markdown",
   "metadata": {},
   "source": [
    "No need to mess up the cron jobs on your laptop in a quick-and-dirt move, we are lucky! Some investigations on Lyon open data portal give us a ready-to-exploit toy dataset: the 7 last days of bike availability, measured every 5 minutes *(sounds perfect, isn't it?)*:\n",
    "\n",
    "https://download.data.grandlyon.com/catalogue/srv/eng/catalog.search#/metadata/9bc6806d-e8a0-463b-aaa1-4364a75e44d7"
   ]
  },
  {
   "cell_type": "code",
   "execution_count": null,
   "metadata": {},
   "outputs": [],
   "source": [
    "LYON_AVAILABILITY_URL = \"https://download.data.grandlyon.com/sos/velov?request=GetObservation&service=SOS&version=1.0.0&offering=reseau_velov&observedProperty=bikes&eventTime={begin}/{end}&responseFormat=application/json\""
   ]
  },
  {
   "cell_type": "markdown",
   "metadata": {},
   "source": [
    "Before to retrieve the raw history data, we need some piping miscellanea:"
   ]
  },
  {
   "cell_type": "code",
   "execution_count": null,
   "metadata": {},
   "outputs": [],
   "source": [
    "def one_week_before(timestamp):\n",
    "    return timestamp - timedelta(7)"
   ]
  },
  {
   "cell_type": "code",
   "execution_count": null,
   "metadata": {},
   "outputs": [],
   "source": [
    "stop = date.today()\n",
    "start = one_week_before(stop)"
   ]
  },
  {
   "cell_type": "code",
   "execution_count": null,
   "metadata": {},
   "outputs": [],
   "source": [
    "start_date = start.strftime(\"%Y-%m-%dT%H:%M:%SZ\")\n",
    "stop_date = stop.strftime(\"%Y-%m-%dT%H:%M:%SZ\")\n",
    "LYON_AVAILABILITY_FULL_URL = LYON_AVAILABILITY_URL.format(begin=start_date, end=stop_date)\n",
    "LYON_AVAILABILITY_FULL_URL"
   ]
  },
  {
   "cell_type": "code",
   "execution_count": null,
   "metadata": {},
   "outputs": [],
   "source": [
    "availability_output_file = \"{begin}-{end}.json\".format(begin=start.strftime(\"%Y%m%d\"), end=stop.strftime(\"%Y%m%d\"))\n",
    "availability_output_path = os.path.join(DATADIR, \"lyon\", \"history\", availability_output_file)\n",
    "os.makedirs(os.path.dirname(availability_output_path), exist_ok=True)\n",
    "availability_output_path"
   ]
  },
  {
   "cell_type": "markdown",
   "metadata": {},
   "source": [
    "Here we have defined the final download URL, as well as an output path on the file system, we can do the job:"
   ]
  },
  {
   "cell_type": "code",
   "execution_count": null,
   "metadata": {},
   "outputs": [],
   "source": [
    "session = requests.Session()\n",
    "resp = session.get(LYON_AVAILABILITY_FULL_URL)\n",
    "with open(availability_output_path, \"w\") as fobj:\n",
    "    json.dump(resp.json(), fobj, ensure_ascii=False)"
   ]
  },
  {
   "cell_type": "code",
   "execution_count": null,
   "metadata": {},
   "outputs": [],
   "source": [
    "ls ../data/lyon/history"
   ]
  },
  {
   "cell_type": "markdown",
   "metadata": {},
   "source": [
    "The bike availability (recent) history is on our computers!"
   ]
  },
  {
   "cell_type": "markdown",
   "metadata": {},
   "source": [
    "## Store the data into the database"
   ]
  },
  {
   "cell_type": "markdown",
   "metadata": {},
   "source": [
    "### Unzip the downloaded station archive"
   ]
  },
  {
   "cell_type": "markdown",
   "metadata": {},
   "source": [
    "Once we have got the archive file, we may unzip it and retrieve the Lyon stations as shapefiles:"
   ]
  },
  {
   "cell_type": "code",
   "execution_count": null,
   "metadata": {},
   "outputs": [],
   "source": [
    "zip_ref = zipfile.ZipFile(archive_path)\n",
    "zip_ref.extractall(os.path.dirname(archive_path))\n",
    "zip_ref.close()"
   ]
  },
  {
   "cell_type": "markdown",
   "metadata": {},
   "source": [
    "### Store the raw station data into the database"
   ]
  },
  {
   "cell_type": "code",
   "execution_count": null,
   "metadata": {},
   "outputs": [],
   "source": [
    "LYON_DATANAME = \"pvo_patrimoine_voirie.pvostationvelov\""
   ]
  },
  {
   "cell_type": "code",
   "execution_count": null,
   "metadata": {},
   "outputs": [],
   "source": [
    "shp_file = os.path.join(os.path.dirname(archive_path), LYON_DATANAME + \".shp\")"
   ]
  },
  {
   "cell_type": "markdown",
   "metadata": {},
   "source": [
    "#### The loat solution: shell command pipe with `sh`"
   ]
  },
  {
   "cell_type": "markdown",
   "metadata": {},
   "source": [
    "Here the station information lies into the shapefiles, we still have to store it into the application database. We use `shp2pgsql` and `psql` for this purpose."
   ]
  },
  {
   "cell_type": "code",
   "execution_count": null,
   "metadata": {},
   "outputs": [],
   "source": [
    "cmd = \"shp2pgsql -s 4326 \" + shp_file + \" lyon.raw_station\"\n",
    "cmd += \" | psql -h \" + HOST + \" -d \" + DBNAME + \" -U \" + USER + \" -p \" + str(PORT)\n",
    "print(cmd)\n",
    "subprocess.call(cmd, shell=True)"
   ]
  },
  {
   "cell_type": "markdown",
   "metadata": {},
   "source": [
    "#### Alternative solution : pure Python with `fiona` + `SQLAlchemy`"
   ]
  },
  {
   "cell_type": "code",
   "execution_count": null,
   "metadata": {},
   "outputs": [],
   "source": [
    "velov = fiona.open(shp_file)"
   ]
  },
  {
   "cell_type": "code",
   "execution_count": null,
   "metadata": {},
   "outputs": [],
   "source": [
    "velov.schema[\"properties\"]"
   ]
  },
  {
   "cell_type": "code",
   "execution_count": null,
   "metadata": {},
   "outputs": [],
   "source": [
    "params_str = \"\"\n",
    "for key, value in velov.schema[\"properties\"].items():\n",
    "    vtype = \"character varying(80)\" if value == \"str:80\" else value\n",
    "    params_str += key + \" \" + vtype + \",\"\n",
    "srid = velov.crs[\"init\"].split(\":\")[1]\n",
    "params_str += f\"geom geometry(Point, {srid})\"\n",
    "engine.execute(\"DROP TABLE IF EXISTS lyon.raw_station;\")\n",
    "engine.execute(\"CREATE TABLE lyon.raw_station ({});\".format(params_str))"
   ]
  },
  {
   "cell_type": "code",
   "execution_count": null,
   "metadata": {},
   "outputs": [],
   "source": [
    "for station in velov:\n",
    "    values = tuple(station[\"properties\"].values())\n",
    "    point = shapely.geometry.Point(station[\"geometry\"][\"coordinates\"])\n",
    "    query = \"INSERT INTO lyon.raw_station VALUES (\" + \", \".join([\"%s\"] * len(values)) + f\", ST_SETSRID(%s::geometry, {srid}))\"\n",
    "    engine.execute(query, *values, point.wkt)"
   ]
  },
  {
   "cell_type": "markdown",
   "metadata": {},
   "source": [
    "Now the station should be in the database in a raw format. We can check it:"
   ]
  },
  {
   "cell_type": "code",
   "execution_count": null,
   "metadata": {},
   "outputs": [],
   "source": [
    "engine = get_engine()\n",
    "rset = engine.execute(\"SELECT count(*) FROM lyon.raw_station;\")\n",
    "rset.fetchone()"
   ]
  },
  {
   "cell_type": "code",
   "execution_count": null,
   "metadata": {},
   "outputs": [],
   "source": [
    "engine.execute(\"SELECT gid, st_x(geom), st_y(geom) FROM lyon.raw_station\").fetchall()[:4]"
   ]
  },
  {
   "cell_type": "code",
   "execution_count": null,
   "metadata": {},
   "outputs": [],
   "source": [
    "engine.execute(\"SELECT st_srid(geom) FROM lyon.raw_station\").fetchone()"
   ]
  },
  {
   "cell_type": "markdown",
   "metadata": {},
   "source": [
    "There is 369 bike-sharing stations in Lyon!"
   ]
  },
  {
   "cell_type": "markdown",
   "metadata": {},
   "source": [
    "### Consider a standardized version of station data"
   ]
  },
  {
   "cell_type": "markdown",
   "metadata": {},
   "source": [
    "At this point, one could stop the station data treatment. However we can still improve the design of our data; especially if we target to retrieve data in additional cities.\n",
    "\n",
    "Here we will \"simply\" build a new table with fixed attributes. A particular attention must be paid on raw attributes (typically they can be known after exploring the data itself)."
   ]
  },
  {
   "cell_type": "code",
   "execution_count": null,
   "metadata": {},
   "outputs": [],
   "source": [
    "query = \"\"\"\n",
    "DROP TABLE IF EXISTS lyon.station;\n",
    "CREATE TABLE lyon.station(\n",
    "id varchar,\n",
    "name varchar(250),\n",
    "address varchar(250),\n",
    "city varchar(100),\n",
    "nb_stands int,\n",
    "geom geometry(POINT, 4326)\n",
    ");\n",
    "INSERT INTO lyon.station\n",
    "SELECT {id} AS id,\n",
    "{name} AS name,\n",
    "{address} AS address,\n",
    "{city} AS city,\n",
    "{nb_stands}::int AS nb_stands,\n",
    "ST_TRANSFORM(ST_FORCE2D(geom), 4326) AS geom\n",
    "FROM lyon.raw_station\n",
    "\"\"\""
   ]
  },
  {
   "cell_type": "code",
   "execution_count": null,
   "metadata": {},
   "outputs": [],
   "source": [
    "LYON_ID = \"idstation\"\n",
    "LYON_NAME = \"nom\"\n",
    "LYON_ADDRESS = \"adresse1\"\n",
    "LYON_CITY = \"commune\"\n",
    "LYON_NB_STATIONS = \"nbbornette\"\n",
    "engine.execute(query.format(id=LYON_ID, name=LYON_NAME, address=LYON_ADDRESS, city=LYON_CITY, nb_stands=LYON_NB_STATIONS))\n",
    "rset = engine.execute(\"SELECT count(*) FROM lyon.station;\")\n",
    "rset.fetchone()"
   ]
  },
  {
   "cell_type": "code",
   "execution_count": null,
   "metadata": {},
   "outputs": [],
   "source": [
    "rset = engine.execute(\"SELECT id, name, st_x(geom), st_y(geom) FROM lyon.station\").fetchall()\n",
    "rset[:4]"
   ]
  },
  {
   "cell_type": "markdown",
   "metadata": {},
   "source": [
    "### Let's plot it with `folium`"
   ]
  },
  {
   "cell_type": "code",
   "execution_count": null,
   "metadata": {},
   "outputs": [],
   "source": [
    "stations = pd.DataFrame(rset, columns=[\"id\", \"name\", \"x\", \"y\"])"
   ]
  },
  {
   "cell_type": "code",
   "execution_count": null,
   "metadata": {},
   "outputs": [],
   "source": [
    "def generateBaseMap(default_location, default_zoom_start=12):\n",
    "    base_map = folium.Map(location=default_location, control_scale=True, zoom_start=default_zoom_start)\n",
    "    return base_map"
   ]
  },
  {
   "cell_type": "code",
   "execution_count": null,
   "metadata": {},
   "outputs": [],
   "source": [
    "m = generateBaseMap([stations.y.mean(), stations.x.mean()])\n",
    "for station in stations.values:\n",
    "    folium.CircleMarker(\n",
    "        location=(station[3], station[2]), radius=3, fill=True, popup=\": \".join([station[0], station[1]])\n",
    "    ).add_to(m)\n",
    "m"
   ]
  },
  {
   "cell_type": "markdown",
   "metadata": {},
   "source": [
    "### Store the bike availability history into a csv file"
   ]
  },
  {
   "cell_type": "markdown",
   "metadata": {},
   "source": [
    "Let come back to the bike availability data. We downloaded it in the `json` format, however a more convenient format is the `csv`: as tables, the data could be far easier to handle, and to store into the application database."
   ]
  },
  {
   "cell_type": "code",
   "execution_count": null,
   "metadata": {},
   "outputs": [],
   "source": [
    "def convert_history_data(history_file):\n",
    "    \"\"\"Read the bike availability history data, and send it directly into a csv file\n",
    "    \n",
    "    The function, and especially the json file structure, is infered from the Lyon Open Data portal.\n",
    "    \"\"\"\n",
    "    with open(history_file, \"r\") as fobj:\n",
    "        data = json.load(fobj)\n",
    "        datalist = []\n",
    "        for d in data[\"ObservationCollection\"][\"member\"]:\n",
    "            cur_d = d[\"result\"][\"DataArray\"][\"values\"]\n",
    "            station_id = d[\"name\"].split(\"-\")[1]\n",
    "            cur_d = [\n",
    "                [item[0], int(float(item[1])), station_id]\n",
    "                for item in cur_d\n",
    "            ]\n",
    "            datalist += cur_d\n",
    "        df = pd.DataFrame(\n",
    "            datalist, columns=[\"timestamp\", \"available_bikes\", \"id\"]\n",
    "        )\n",
    "        df.loc[:, \"timestamp\"] = pd.to_datetime(df[\"timestamp\"])\n",
    "        df.sort_values(\"timestamp\")\n",
    "        with open(history_file.replace(\".json\", \".csv\"), \"w\") as fobj:\n",
    "            df.to_csv(fobj, index=False)"
   ]
  },
  {
   "cell_type": "code",
   "execution_count": null,
   "metadata": {},
   "outputs": [],
   "source": [
    "convert_history_data(availability_output_path)"
   ]
  },
  {
   "cell_type": "code",
   "execution_count": null,
   "metadata": {},
   "outputs": [],
   "source": [
    "ls ../data/lyon/history"
   ]
  },
  {
   "cell_type": "markdown",
   "metadata": {},
   "source": [
    "Now it should be easier to populate the database..."
   ]
  },
  {
   "cell_type": "markdown",
   "metadata": {},
   "source": [
    "### Store the bike availibility history into the database"
   ]
  },
  {
   "cell_type": "code",
   "execution_count": null,
   "metadata": {},
   "outputs": [],
   "source": [
    "availability_timeseries = pd.read_csv(availability_output_path.replace(\".json\", \".csv\"), parse_dates=[\"timestamp\"])"
   ]
  },
  {
   "cell_type": "code",
   "execution_count": null,
   "metadata": {},
   "outputs": [],
   "source": [
    "availability_timeseries.info()"
   ]
  },
  {
   "cell_type": "markdown",
   "metadata": {},
   "source": [
    "For a sake of data consistency, store the IDs as strings (similarly to `lyon.station` table):"
   ]
  },
  {
   "cell_type": "code",
   "execution_count": null,
   "metadata": {},
   "outputs": [],
   "source": [
    "availability_timeseries.loc[:, \"id\"] = availability_timeseries[\"id\"].astype(str)"
   ]
  },
  {
   "cell_type": "code",
   "execution_count": null,
   "metadata": {},
   "outputs": [],
   "source": [
    "availability_timeseries.head()"
   ]
  },
  {
   "cell_type": "code",
   "execution_count": null,
   "metadata": {},
   "outputs": [],
   "source": [
    "availability_timeseries.info()"
   ]
  },
  {
   "cell_type": "code",
   "execution_count": null,
   "metadata": {},
   "outputs": [],
   "source": [
    "import matplotlib.pyplot as plt\n",
    "import seaborn as sns"
   ]
  },
  {
   "cell_type": "code",
   "execution_count": null,
   "metadata": {},
   "outputs": [],
   "source": [
    "sns.set(style=\"whitegrid\")"
   ]
  },
  {
   "cell_type": "code",
   "execution_count": null,
   "metadata": {},
   "outputs": [],
   "source": [
    "def get_station_ts(station_id):\n",
    "    return availability_timeseries.loc[availability_timeseries[\"id\"] == station_id].drop(columns=[\"id\"]).set_index(\"timestamp\")\n",
    "f, ax = plt.subplots(3, 1, figsize=(15, 18))\n",
    "ax[0].set_title(\"station 1001\")\n",
    "sns.lineplot(data=get_station_ts(\"1001\"), ax=ax[0])\n",
    "ax[1].set_title(\"station 3080\")\n",
    "sns.lineplot(data=get_station_ts(\"3080\"), ax=ax[1])\n",
    "ax[2].set_title(\"station 10116\")\n",
    "sns.lineplot(data=get_station_ts(\"10116\"), ax=ax[2])"
   ]
  },
  {
   "cell_type": "code",
   "execution_count": null,
   "metadata": {},
   "outputs": [],
   "source": [
    "engine.execute(\"DROP TABLE IF EXISTS lyon.timeseries;\")\n",
    "availability_timeseries.to_sql(\"timeseries\", schema=\"lyon\", con=engine, chunksize=50000, method=\"multi\", index=False)"
   ]
  },
  {
   "cell_type": "code",
   "execution_count": null,
   "metadata": {},
   "outputs": [],
   "source": [
    "rset = engine.execute(\"SELECT count(*) FROM lyon.timeseries;\")\n",
    "rset.fetchone()"
   ]
  },
  {
   "cell_type": "markdown",
   "metadata": {},
   "source": [
    "As this point, we have built our database, and populated it with station and bike availability data!"
   ]
  }
 ],
 "metadata": {
  "kernelspec": {
   "display_name": "Python 3",
   "language": "python",
   "name": "python3"
  },
  "language_info": {
   "codemirror_mode": {
    "name": "ipython",
    "version": 3
   },
   "file_extension": ".py",
   "mimetype": "text/x-python",
   "name": "python",
   "nbconvert_exporter": "python",
   "pygments_lexer": "ipython3",
   "version": "3.6.5"
  }
 },
 "nbformat": 4,
 "nbformat_minor": 2
}

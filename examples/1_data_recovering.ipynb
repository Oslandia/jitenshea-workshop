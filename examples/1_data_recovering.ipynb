{
 "cells": [
  {
   "cell_type": "markdown",
   "metadata": {},
   "source": [
    "# Data recovering"
   ]
  },
  {
   "cell_type": "markdown",
   "metadata": {},
   "source": [
    "This first notebook aims at retrieving a minimal set of data for running further analysis."
   ]
  },
  {
   "cell_type": "markdown",
   "metadata": {},
   "source": [
    "**Warning:** In these notebooks, we will interact with a database, by adding fresh data. As a wrong move is always possible, an act-first-and-think-then tool that erase data folder and reset the database is provided (see `./resetdb.sh`). Use it with caution! :)"
   ]
  },
  {
   "cell_type": "markdown",
   "metadata": {},
   "source": [
    "## Introduction"
   ]
  },
  {
   "cell_type": "code",
   "execution_count": 1,
   "metadata": {},
   "outputs": [],
   "source": [
    "from datetime import datetime, date, timedelta\n",
    "import json\n",
    "import os\n",
    "import zipfile"
   ]
  },
  {
   "cell_type": "code",
   "execution_count": 2,
   "metadata": {},
   "outputs": [],
   "source": [
    "import pandas as pd\n",
    "import requests\n",
    "from sqlalchemy import create_engine"
   ]
  },
  {
   "cell_type": "markdown",
   "metadata": {},
   "source": [
    "## Configuration"
   ]
  },
  {
   "cell_type": "code",
   "execution_count": 3,
   "metadata": {},
   "outputs": [],
   "source": [
    "DATADIR = \"../data\""
   ]
  },
  {
   "cell_type": "code",
   "execution_count": 4,
   "metadata": {},
   "outputs": [],
   "source": [
    "os.makedirs(os.path.join(DATADIR, \"lyon\"), exist_ok=True)"
   ]
  },
  {
   "cell_type": "code",
   "execution_count": 5,
   "metadata": {},
   "outputs": [],
   "source": [
    "HOST = \"localhost\"\n",
    "PORT = 5432\n",
    "USER = \"rde\"\n",
    "DBNAME = \"jitenshea\""
   ]
  },
  {
   "cell_type": "markdown",
   "metadata": {},
   "source": [
    "## Utilities"
   ]
  },
  {
   "cell_type": "code",
   "execution_count": 6,
   "metadata": {},
   "outputs": [],
   "source": [
    "def get_engine():\n",
    "    url = \"postgresql://{user}@{host}:{port}/{dbname}\".format(user=USER, host=HOST, port=PORT, dbname=DBNAME)\n",
    "    return create_engine(url)"
   ]
  },
  {
   "cell_type": "code",
   "execution_count": 7,
   "metadata": {},
   "outputs": [],
   "source": [
    "def create_schema(schema):\n",
    "    engine = get_engine()\n",
    "    engine.execute(\"CREATE SCHEMA IF NOT EXISTS {schema};\".format(schema=schema))\n",
    "    engine.dispose()"
   ]
  },
  {
   "cell_type": "markdown",
   "metadata": {},
   "source": [
    "Be careful to create the `lyon` schema at this step, otherwise further ones will fail..."
   ]
  },
  {
   "cell_type": "code",
   "execution_count": 8,
   "metadata": {},
   "outputs": [],
   "source": [
    "create_schema(\"lyon\")"
   ]
  },
  {
   "cell_type": "markdown",
   "metadata": {},
   "source": [
    "## Retrieve the data"
   ]
  },
  {
   "cell_type": "markdown",
   "metadata": {},
   "source": [
    "### Download the raw station data"
   ]
  },
  {
   "cell_type": "markdown",
   "metadata": {},
   "source": [
    "We download the station information, and save the resulting archive into the data folder:"
   ]
  },
  {
   "cell_type": "code",
   "execution_count": 9,
   "metadata": {},
   "outputs": [],
   "source": [
    "archive_path = os.path.join(DATADIR, \"lyon\", \"lyon-stations.zip\")"
   ]
  },
  {
   "cell_type": "code",
   "execution_count": 10,
   "metadata": {
    "slideshow": {
     "slide_type": "subslide"
    }
   },
   "outputs": [],
   "source": [
    "LYON_STATION_URL = \"https://download.data.grandlyon.com/wfs/grandlyon?service=wfs&request=GetFeature&version=2.0.0&SRSNAME=EPSG:4326&outputFormat=SHAPEZIP&typename=pvo_patrimoine_voirie.pvostationvelov\""
   ]
  },
  {
   "cell_type": "code",
   "execution_count": 11,
   "metadata": {},
   "outputs": [],
   "source": [
    "with open(archive_path, \"wb\") as fobj:\n",
    "    resp = requests.get(LYON_STATION_URL)\n",
    "    resp.raise_for_status()\n",
    "    fobj.write(resp.content)"
   ]
  },
  {
   "cell_type": "markdown",
   "metadata": {},
   "source": [
    "### Download bike availability history"
   ]
  },
  {
   "cell_type": "markdown",
   "metadata": {},
   "source": [
    "#### Method 1: Latest records + Cron job"
   ]
  },
  {
   "cell_type": "code",
   "execution_count": 12,
   "metadata": {},
   "outputs": [],
   "source": [
    "LYON_REALTIME_URL = \"https://download.data.grandlyon.com/ws/rdata/jcd_jcdecaux.jcdvelov/all.json\""
   ]
  },
  {
   "cell_type": "code",
   "execution_count": 13,
   "metadata": {},
   "outputs": [
    {
     "name": "stdout",
     "output_type": "stream",
     "text": [
      "../data/lyon/2019/8/14/12H36M.json\n"
     ]
    }
   ],
   "source": [
    "timestamp = datetime.now()\n",
    "realtime_json_file = timestamp.strftime(\"%HH%MM\")\n",
    "realtime_json_path = os.path.join(DATADIR, \"lyon\", str(timestamp.year), str(timestamp.month), str(timestamp.day), realtime_json_file + \".json\")\n",
    "os.makedirs(os.path.dirname(realtime_json_path), exist_ok=True)\n",
    "print(realtime_json_path)\n",
    "\n",
    "session = requests.Session()\n",
    "resp = session.get(LYON_REALTIME_URL)\n",
    "with open(realtime_json_path, \"w\") as fobj:\n",
    "    json.dump(resp.json(), fobj, ensure_ascii=False)\n",
    "session.close()\n"
   ]
  },
  {
   "cell_type": "markdown",
   "metadata": {},
   "source": [
    "This method provides the freshest bike availability data, hence one could build a really big history by repeating the dump each X minutes (X being a frequency of your choice...).\n",
    "\n",
    "By setting a cron job, this task could be done properly. In your shell:\n",
    "```\n",
    "crontab -e\n",
    "```\n",
    "Then in the crontab file:\n",
    "```\n",
    "# m h  dom mon dow   command\n",
    "*/5 * * * * the-program\n",
    "```\n",
    "This last example would execute `the-program` each 5 minutes, every hour of every day of every month... However it is beyond the scope of this modest workshop!\n",
    "\n",
    "*NOTE:* This is still the best way to get bike-sharing system data, anyway!"
   ]
  },
  {
   "cell_type": "markdown",
   "metadata": {},
   "source": [
    "#### Method 2: It's your birthday!"
   ]
  },
  {
   "cell_type": "markdown",
   "metadata": {},
   "source": [
    "No need to mess up the cron jobs on your laptop in a quick-and-dirt move, we are lucky! Some investigations on Lyon open data portal give us a ready-to-exploit toy dataset: the 7 last days of bike availability, measured every 5 minutes *(sounds perfect, isn't it?)*:\n",
    "\n",
    "https://download.data.grandlyon.com/catalogue/srv/eng/catalog.search#/metadata/9bc6806d-e8a0-463b-aaa1-4364a75e44d7"
   ]
  },
  {
   "cell_type": "code",
   "execution_count": 14,
   "metadata": {},
   "outputs": [],
   "source": [
    "LYON_AVAILABILITY_URL = \"https://download.data.grandlyon.com/sos/velov?request=GetObservation&service=SOS&version=1.0.0&offering=reseau_velov&observedProperty=bikes&eventTime={begin}/{end}&responseFormat=application/json\""
   ]
  },
  {
   "cell_type": "markdown",
   "metadata": {},
   "source": [
    "Before to retrieve the raw history data, we need some piping miscellanea:"
   ]
  },
  {
   "cell_type": "code",
   "execution_count": 15,
   "metadata": {},
   "outputs": [],
   "source": [
    "def one_week_before(timestamp):\n",
    "    return timestamp - timedelta(7)"
   ]
  },
  {
   "cell_type": "code",
   "execution_count": 16,
   "metadata": {},
   "outputs": [],
   "source": [
    "stop = date.today()\n",
    "start = one_week_before(stop)"
   ]
  },
  {
   "cell_type": "code",
   "execution_count": 17,
   "metadata": {},
   "outputs": [
    {
     "data": {
      "text/plain": [
       "'https://download.data.grandlyon.com/sos/velov?request=GetObservation&service=SOS&version=1.0.0&offering=reseau_velov&observedProperty=bikes&eventTime=2019-08-07T00:00:00Z/2019-08-14T00:00:00Z&responseFormat=application/json'"
      ]
     },
     "execution_count": 17,
     "metadata": {},
     "output_type": "execute_result"
    }
   ],
   "source": [
    "start_date = start.strftime(\"%Y-%m-%dT%H:%M:%SZ\")\n",
    "stop_date = stop.strftime(\"%Y-%m-%dT%H:%M:%SZ\")\n",
    "LYON_AVAILABILITY_FULL_URL = LYON_AVAILABILITY_URL.format(begin=start_date, end=stop_date)\n",
    "LYON_AVAILABILITY_FULL_URL"
   ]
  },
  {
   "cell_type": "code",
   "execution_count": 18,
   "metadata": {},
   "outputs": [
    {
     "data": {
      "text/plain": [
       "'../data/lyon/history/20190807-20190814.json'"
      ]
     },
     "execution_count": 18,
     "metadata": {},
     "output_type": "execute_result"
    }
   ],
   "source": [
    "availability_output_file = \"{begin}-{end}.json\".format(begin=start.strftime(\"%Y%m%d\"), end=stop.strftime(\"%Y%m%d\"))\n",
    "availability_output_path = os.path.join(DATADIR, \"lyon\", \"history\", availability_output_file)\n",
    "os.makedirs(os.path.dirname(availability_output_path), exist_ok=True)\n",
    "availability_output_path"
   ]
  },
  {
   "cell_type": "markdown",
   "metadata": {},
   "source": [
    "Here we have defined the final download URL, as well as an output path on the file system, we can do the job:"
   ]
  },
  {
   "cell_type": "code",
   "execution_count": 19,
   "metadata": {},
   "outputs": [],
   "source": [
    "session = requests.Session()\n",
    "resp = session.get(LYON_AVAILABILITY_FULL_URL)\n",
    "with open(availability_output_path, \"w\") as fobj:\n",
    "    json.dump(resp.json(), fobj, ensure_ascii=False)"
   ]
  },
  {
   "cell_type": "code",
   "execution_count": 20,
   "metadata": {},
   "outputs": [
    {
     "name": "stdout",
     "output_type": "stream",
     "text": [
      "20190806-20190813.csv   20190807-20190814.csv\r\n",
      "20190806-20190813.json  20190807-20190814.json\r\n"
     ]
    }
   ],
   "source": [
    "ls ../data/lyon/history"
   ]
  },
  {
   "cell_type": "markdown",
   "metadata": {},
   "source": [
    "The bike availability (recent) history is on our computers!"
   ]
  },
  {
   "cell_type": "markdown",
   "metadata": {},
   "source": [
    "## Store the data into the database"
   ]
  },
  {
   "cell_type": "markdown",
   "metadata": {},
   "source": [
    "### Unzip the downloaded station archive"
   ]
  },
  {
   "cell_type": "markdown",
   "metadata": {},
   "source": [
    "Once we have got the archive file, we may unzip it and retrieve the Lyon stations as shapefiles:"
   ]
  },
  {
   "cell_type": "code",
   "execution_count": 21,
   "metadata": {},
   "outputs": [],
   "source": [
    "zip_ref = zipfile.ZipFile(archive_path)\n",
    "zip_ref.extractall(os.path.dirname(archive_path))\n",
    "zip_ref.close()"
   ]
  },
  {
   "cell_type": "markdown",
   "metadata": {},
   "source": [
    "### Store the raw station data into the database"
   ]
  },
  {
   "cell_type": "markdown",
   "metadata": {},
   "source": [
    "Here the station information lies into the shapefiles, we still have to store it into the application database. We use `shp2pgsql` and `psql` for this purpose."
   ]
  },
  {
   "cell_type": "code",
   "execution_count": 22,
   "metadata": {},
   "outputs": [],
   "source": [
    "LYON_SRID = 3946\n",
    "LYON_DATANAME = \"pvo_patrimoine_voirie.pvostationvelov\""
   ]
  },
  {
   "cell_type": "code",
   "execution_count": 23,
   "metadata": {},
   "outputs": [
    {
     "data": {
      "text/plain": [
       "'shp2pgsql -s 3946 ../data/lyon/pvo_patrimoine_voirie.pvostationvelov.shp lyon.raw_station | psql -h localhost -d jitenshea -U rde -p 5432'"
      ]
     },
     "execution_count": 23,
     "metadata": {},
     "output_type": "execute_result"
    }
   ],
   "source": [
    "import subprocess\n",
    "\n",
    "shp_file = os.path.join(os.path.dirname(archive_path), LYON_DATANAME + \".shp\")\n",
    "cmd = \"shp2pgsql -s \" + str(LYON_SRID) + \" \" + shp_file + \" lyon.raw_station\"\n",
    "cmd += \" | psql -h \" + HOST + \" -d \" + DBNAME + \" -U \" + USER + \" -p \" + str(PORT)\n",
    "cmd"
   ]
  },
  {
   "cell_type": "code",
   "execution_count": 24,
   "metadata": {},
   "outputs": [
    {
     "data": {
      "text/plain": [
       "0"
      ]
     },
     "execution_count": 24,
     "metadata": {},
     "output_type": "execute_result"
    }
   ],
   "source": [
    "subprocess.call(cmd, shell=True)"
   ]
  },
  {
   "cell_type": "markdown",
   "metadata": {},
   "source": [
    "Now the station should be in the database in a raw format. We can check it:"
   ]
  },
  {
   "cell_type": "code",
   "execution_count": 25,
   "metadata": {},
   "outputs": [
    {
     "data": {
      "text/plain": [
       "(369,)"
      ]
     },
     "execution_count": 25,
     "metadata": {},
     "output_type": "execute_result"
    }
   ],
   "source": [
    "engine = get_engine()\n",
    "rset = engine.execute(\"SELECT count(*) FROM lyon.raw_station;\")\n",
    "rset.fetchone()"
   ]
  },
  {
   "cell_type": "markdown",
   "metadata": {},
   "source": [
    "There is 369 bike-sharing stations in Lyon!"
   ]
  },
  {
   "cell_type": "markdown",
   "metadata": {},
   "source": [
    "### Consider a standardized version of station data"
   ]
  },
  {
   "cell_type": "markdown",
   "metadata": {},
   "source": [
    "At this point, one could stop the station data treatment. However we can still improve the design of our data; especially if we target to retrieve data in additional cities.\n",
    "\n",
    "Here we will \"simply\" build a new table with fixed attributes. A particular attention must be paid on raw attributes (typically they can be known after exploring the data itself)."
   ]
  },
  {
   "cell_type": "code",
   "execution_count": 26,
   "metadata": {},
   "outputs": [],
   "source": [
    "query = \"\"\"\n",
    "DROP TABLE IF EXISTS lyon.station;\n",
    "CREATE TABLE lyon.station(\n",
    "id varchar,\n",
    "name varchar(250),\n",
    "address varchar(250),\n",
    "city varchar(100),\n",
    "nb_stations int,\n",
    "geom geometry(POINT, 4326)\n",
    ");\n",
    "INSERT INTO lyon.station\n",
    "SELECT {id} AS id,\n",
    "{name} AS name,\n",
    "{address} AS address,\n",
    "{city} AS city,\n",
    "{nb_stations}::int AS nb_stations,\n",
    "ST_TRANSFORM(ST_FORCE2D(geom), 4326) AS geom\n",
    "FROM lyon.raw_station\n",
    "\"\"\""
   ]
  },
  {
   "cell_type": "code",
   "execution_count": 27,
   "metadata": {},
   "outputs": [
    {
     "data": {
      "text/plain": [
       "(369,)"
      ]
     },
     "execution_count": 27,
     "metadata": {},
     "output_type": "execute_result"
    }
   ],
   "source": [
    "LYON_ID = \"idstation\"\n",
    "LYON_NAME = \"nom\"\n",
    "LYON_ADDRESS = \"adresse1\"\n",
    "LYON_CITY = \"commune\"\n",
    "LYON_NB_STATIONS = \"nbbornette\"\n",
    "engine.execute(query.format(id=LYON_ID, name=LYON_NAME, address=LYON_ADDRESS, city=LYON_CITY, nb_stations=LYON_NB_STATIONS))\n",
    "rset = engine.execute(\"SELECT count(*) FROM lyon.station;\")\n",
    "rset.fetchone()"
   ]
  },
  {
   "cell_type": "markdown",
   "metadata": {},
   "source": [
    "### Store the bike availability history into a csv file"
   ]
  },
  {
   "cell_type": "markdown",
   "metadata": {},
   "source": [
    "Let come back to the bike availability data. We downloaded it in the `json` format, however a more convenient format is the `csv`: as tables, the data could be far easier to handle, and to store into the application database."
   ]
  },
  {
   "cell_type": "code",
   "execution_count": 28,
   "metadata": {},
   "outputs": [],
   "source": [
    "def convert_history_data(history_file):\n",
    "    \"\"\"Read the bike availability history data, and send it directly into a csv file\n",
    "    \n",
    "    The function, and especially the json file structure, is infered from the Lyon Open Data portal.\n",
    "    \"\"\"\n",
    "    with open(history_file, \"r\") as fobj:\n",
    "        data = json.load(fobj)\n",
    "        datalist = []\n",
    "        for d in data[\"ObservationCollection\"][\"member\"]:\n",
    "            cur_d = d[\"result\"][\"DataArray\"][\"values\"]\n",
    "            station_id = d[\"name\"].split(\"-\")[1]\n",
    "            cur_d = [\n",
    "                [item[0], int(float(item[1])), station_id]\n",
    "                for item in cur_d\n",
    "            ]\n",
    "            datalist += cur_d\n",
    "        df = pd.DataFrame(\n",
    "            datalist, columns=[\"timestamp\", \"available_bikes\", \"id\"]\n",
    "        )\n",
    "        df.loc[:, \"timestamp\"] = pd.to_datetime(df[\"timestamp\"])\n",
    "        df.sort_values(\"timestamp\")\n",
    "        with open(history_file.replace(\".json\", \".csv\"), \"w\") as fobj:\n",
    "            df.to_csv(fobj, index=False)"
   ]
  },
  {
   "cell_type": "code",
   "execution_count": 29,
   "metadata": {},
   "outputs": [],
   "source": [
    "convert_history_data(availability_output_path)"
   ]
  },
  {
   "cell_type": "code",
   "execution_count": 30,
   "metadata": {},
   "outputs": [
    {
     "name": "stdout",
     "output_type": "stream",
     "text": [
      "20190806-20190813.csv   20190807-20190814.csv\r\n",
      "20190806-20190813.json  20190807-20190814.json\r\n"
     ]
    }
   ],
   "source": [
    "ls ../data/lyon/history"
   ]
  },
  {
   "cell_type": "markdown",
   "metadata": {},
   "source": [
    "Now it should be easier to populate the database..."
   ]
  },
  {
   "cell_type": "markdown",
   "metadata": {},
   "source": [
    "### Store the bike availibility history into the database"
   ]
  },
  {
   "cell_type": "code",
   "execution_count": 31,
   "metadata": {},
   "outputs": [],
   "source": [
    "availability_timeseries = pd.read_csv(availability_output_path.replace(\".json\", \".csv\"), parse_dates=[\"timestamp\"])"
   ]
  },
  {
   "cell_type": "code",
   "execution_count": 32,
   "metadata": {},
   "outputs": [
    {
     "name": "stdout",
     "output_type": "stream",
     "text": [
      "<class 'pandas.core.frame.DataFrame'>\n",
      "RangeIndex: 669049 entries, 0 to 669048\n",
      "Data columns (total 3 columns):\n",
      "timestamp          669049 non-null datetime64[ns, UTC]\n",
      "available_bikes    669049 non-null int64\n",
      "id                 669049 non-null int64\n",
      "dtypes: datetime64[ns, UTC](1), int64(2)\n",
      "memory usage: 15.3 MB\n"
     ]
    }
   ],
   "source": [
    "availability_timeseries.info()"
   ]
  },
  {
   "cell_type": "markdown",
   "metadata": {},
   "source": [
    "For a sake of data consistency, store the IDs as strings (similarly to `lyon.station` table):"
   ]
  },
  {
   "cell_type": "code",
   "execution_count": 33,
   "metadata": {},
   "outputs": [],
   "source": [
    "availability_timeseries.loc[:, \"id\"] = availability_timeseries[\"id\"].astype(str)"
   ]
  },
  {
   "cell_type": "code",
   "execution_count": 34,
   "metadata": {},
   "outputs": [
    {
     "data": {
      "text/html": [
       "<div>\n",
       "<style scoped>\n",
       "    .dataframe tbody tr th:only-of-type {\n",
       "        vertical-align: middle;\n",
       "    }\n",
       "\n",
       "    .dataframe tbody tr th {\n",
       "        vertical-align: top;\n",
       "    }\n",
       "\n",
       "    .dataframe thead th {\n",
       "        text-align: right;\n",
       "    }\n",
       "</style>\n",
       "<table border=\"1\" class=\"dataframe\">\n",
       "  <thead>\n",
       "    <tr style=\"text-align: right;\">\n",
       "      <th></th>\n",
       "      <th>timestamp</th>\n",
       "      <th>available_bikes</th>\n",
       "      <th>id</th>\n",
       "    </tr>\n",
       "  </thead>\n",
       "  <tbody>\n",
       "    <tr>\n",
       "      <th>0</th>\n",
       "      <td>2019-08-07 00:00:00+00:00</td>\n",
       "      <td>12</td>\n",
       "      <td>9014</td>\n",
       "    </tr>\n",
       "    <tr>\n",
       "      <th>1</th>\n",
       "      <td>2019-08-07 00:05:00+00:00</td>\n",
       "      <td>12</td>\n",
       "      <td>9014</td>\n",
       "    </tr>\n",
       "    <tr>\n",
       "      <th>2</th>\n",
       "      <td>2019-08-07 00:10:00+00:00</td>\n",
       "      <td>12</td>\n",
       "      <td>9014</td>\n",
       "    </tr>\n",
       "    <tr>\n",
       "      <th>3</th>\n",
       "      <td>2019-08-07 00:15:00+00:00</td>\n",
       "      <td>12</td>\n",
       "      <td>9014</td>\n",
       "    </tr>\n",
       "    <tr>\n",
       "      <th>4</th>\n",
       "      <td>2019-08-07 00:20:00+00:00</td>\n",
       "      <td>12</td>\n",
       "      <td>9014</td>\n",
       "    </tr>\n",
       "  </tbody>\n",
       "</table>\n",
       "</div>"
      ],
      "text/plain": [
       "                  timestamp  available_bikes    id\n",
       "0 2019-08-07 00:00:00+00:00               12  9014\n",
       "1 2019-08-07 00:05:00+00:00               12  9014\n",
       "2 2019-08-07 00:10:00+00:00               12  9014\n",
       "3 2019-08-07 00:15:00+00:00               12  9014\n",
       "4 2019-08-07 00:20:00+00:00               12  9014"
      ]
     },
     "execution_count": 34,
     "metadata": {},
     "output_type": "execute_result"
    }
   ],
   "source": [
    "availability_timeseries.head()"
   ]
  },
  {
   "cell_type": "code",
   "execution_count": 35,
   "metadata": {},
   "outputs": [],
   "source": [
    "engine.execute(\"DROP TABLE IF EXISTS lyon.timeseries;\")\n",
    "availability_timeseries.to_sql(\"timeseries\", schema=\"lyon\", con=engine, chunksize=50000, method=\"multi\", index=False)"
   ]
  },
  {
   "cell_type": "code",
   "execution_count": 36,
   "metadata": {},
   "outputs": [
    {
     "data": {
      "text/plain": [
       "(669049,)"
      ]
     },
     "execution_count": 36,
     "metadata": {},
     "output_type": "execute_result"
    }
   ],
   "source": [
    "rset = engine.execute(\"SELECT count(*) FROM lyon.timeseries;\")\n",
    "rset.fetchone()"
   ]
  },
  {
   "cell_type": "markdown",
   "metadata": {},
   "source": [
    "As this point, we have built our database, and populated it with station and bike availability data!"
   ]
  }
 ],
 "metadata": {
  "kernelspec": {
   "display_name": "Python 3",
   "language": "python",
   "name": "python3"
  },
  "language_info": {
   "codemirror_mode": {
    "name": "ipython",
    "version": 3
   },
   "file_extension": ".py",
   "mimetype": "text/x-python",
   "name": "python",
   "nbconvert_exporter": "python",
   "pygments_lexer": "ipython3",
   "version": "3.6.5"
  }
 },
 "nbformat": 4,
 "nbformat_minor": 2
}

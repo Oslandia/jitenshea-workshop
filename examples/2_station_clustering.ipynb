{
 "cells": [
  {
   "cell_type": "markdown",
   "metadata": {},
   "source": [
    "# Analyze data with machine learning"
   ]
  },
  {
   "cell_type": "markdown",
   "metadata": {},
   "source": [
    "Although a lot of interesting question could be addressed with this dataset, we will focus on one single use case, summarized by the following question: **Can we group the shared-bike station regarding their occupation chronicle?**"
   ]
  },
  {
   "cell_type": "markdown",
   "metadata": {},
   "source": [
    "## Introduction"
   ]
  },
  {
   "cell_type": "code",
   "execution_count": 105,
   "metadata": {},
   "outputs": [],
   "source": [
    "from datetime import datetime, date, timedelta\n",
    "import os\n",
    "import pytz"
   ]
  },
  {
   "cell_type": "code",
   "execution_count": 106,
   "metadata": {},
   "outputs": [],
   "source": [
    "import pandas as pd\n",
    "from sklearn.cluster import KMeans\n",
    "from sqlalchemy import create_engine"
   ]
  },
  {
   "cell_type": "markdown",
   "metadata": {},
   "source": [
    "## Configuration"
   ]
  },
  {
   "cell_type": "code",
   "execution_count": 107,
   "metadata": {},
   "outputs": [],
   "source": [
    "DATADIR = \"../data\""
   ]
  },
  {
   "cell_type": "code",
   "execution_count": 108,
   "metadata": {},
   "outputs": [],
   "source": [
    "HOST = \"localhost\"\n",
    "PORT = 5432\n",
    "USER = \"rde\"\n",
    "DBNAME = \"jitenshea\""
   ]
  },
  {
   "cell_type": "markdown",
   "metadata": {},
   "source": [
    "## Utilities"
   ]
  },
  {
   "cell_type": "code",
   "execution_count": 180,
   "metadata": {},
   "outputs": [],
   "source": [
    "def get_engine():\n",
    "    url = \"postgresql://{user}@{host}:{port}/{dbname}\".format(user=USER, host=HOST, port=PORT, dbname=DBNAME)\n",
    "    return create_engine(url)\n",
    "engine = get_engine()"
   ]
  },
  {
   "cell_type": "markdown",
   "metadata": {},
   "source": [
    "## Compute stations clusters"
   ]
  },
  {
   "cell_type": "markdown",
   "metadata": {},
   "source": [
    "### Retrieve the previously stored timeseries data"
   ]
  },
  {
   "cell_type": "code",
   "execution_count": 114,
   "metadata": {},
   "outputs": [
    {
     "data": {
      "text/plain": [
       "'../data/lyon/history/20190807-20190814.csv'"
      ]
     },
     "execution_count": 114,
     "metadata": {},
     "output_type": "execute_result"
    }
   ],
   "source": [
    "availability_input_file = \"{begin}-{end}.csv\".format(begin=start.strftime(\"%Y%m%d\"), end=stop.strftime(\"%Y%m%d\"))\n",
    "availability_input_path = os.path.join(DATADIR, \"lyon\", \"history\", availability_input_file)\n",
    "availability_input_path"
   ]
  },
  {
   "cell_type": "code",
   "execution_count": 115,
   "metadata": {},
   "outputs": [],
   "source": [
    "df = pd.read_csv(availability_input_path, parse_dates=[\"timestamp\"])"
   ]
  },
  {
   "cell_type": "code",
   "execution_count": 116,
   "metadata": {},
   "outputs": [
    {
     "data": {
      "text/plain": [
       "(669049, 3)"
      ]
     },
     "execution_count": 116,
     "metadata": {},
     "output_type": "execute_result"
    }
   ],
   "source": [
    "df.shape"
   ]
  },
  {
   "cell_type": "code",
   "execution_count": 117,
   "metadata": {},
   "outputs": [
    {
     "data": {
      "text/plain": [
       "(Timestamp('2019-08-07 00:00:00+0000', tz='UTC'),\n",
       " Timestamp('2019-08-14 00:00:00+0000', tz='UTC'))"
      ]
     },
     "execution_count": 117,
     "metadata": {},
     "output_type": "execute_result"
    }
   ],
   "source": [
    "df.timestamp.min(), df.timestamp.max()"
   ]
  },
  {
   "cell_type": "markdown",
   "metadata": {},
   "source": [
    "In order to control the clustering process in a wider way, we may consider the time period as a input parameter, hence select the data accordingly."
   ]
  },
  {
   "cell_type": "markdown",
   "metadata": {},
   "source": [
    "We can note that timestamped data are stored with a timezone info, hence we must declare timezone-aware datetimes here."
   ]
  },
  {
   "cell_type": "code",
   "execution_count": 118,
   "metadata": {},
   "outputs": [
    {
     "data": {
      "text/plain": [
       "(datetime.datetime(2019, 8, 7, 0, 0, tzinfo=<UTC>),\n",
       " datetime.datetime(2019, 8, 14, 0, 0, tzinfo=<UTC>))"
      ]
     },
     "execution_count": 118,
     "metadata": {},
     "output_type": "execute_result"
    }
   ],
   "source": [
    "today = date.today()\n",
    "stop = datetime(today.year, today.month, today.day, 0, 0, tzinfo=pytz.utc)\n",
    "start = stop - timedelta(7)\n",
    "start, stop"
   ]
  },
  {
   "cell_type": "code",
   "execution_count": 119,
   "metadata": {},
   "outputs": [
    {
     "data": {
      "text/plain": [
       "(669049, 3)"
      ]
     },
     "execution_count": 119,
     "metadata": {},
     "output_type": "execute_result"
    }
   ],
   "source": [
    "df = df[(df[\"timestamp\"] >= start) & (df[\"timestamp\"] <= stop)]\n",
    "df.shape"
   ]
  },
  {
   "cell_type": "markdown",
   "metadata": {},
   "source": [
    "### Pré-traitement des données"
   ]
  },
  {
   "cell_type": "markdown",
   "metadata": {},
   "source": [
    "First we remove from the analysis shared-bike stations that looks unused during the period (the station remained empty)."
   ]
  },
  {
   "cell_type": "code",
   "execution_count": 120,
   "metadata": {},
   "outputs": [],
   "source": [
    "max_bikes = df.groupby(\"id\")[\"available_bikes\"].max()\n",
    "unactive_stations = max_bikes[max_bikes==0].index.tolist()\n",
    "df = df[~ df[\"id\"].isin(unactive_stations)]"
   ]
  },
  {
   "cell_type": "code",
   "execution_count": 121,
   "metadata": {},
   "outputs": [
    {
     "data": {
      "text/plain": [
       "([8024, 10004, 10039, 10072], (661060, 3))"
      ]
     },
     "execution_count": 121,
     "metadata": {},
     "output_type": "execute_result"
    }
   ],
   "source": [
    "unactive_stations, df.shape"
   ]
  },
  {
   "cell_type": "markdown",
   "metadata": {},
   "source": [
    "Then we resample the data each 5 minutes and group it with respect to station IDs :"
   ]
  },
  {
   "cell_type": "code",
   "execution_count": 153,
   "metadata": {},
   "outputs": [
    {
     "data": {
      "text/plain": [
       "(2017, 331)"
      ]
     },
     "execution_count": 153,
     "metadata": {},
     "output_type": "execute_result"
    }
   ],
   "source": [
    "rdf = (df.set_index(\"timestamp\")\n",
    "       .groupby(\"id\")[\"available_bikes\"]\n",
    "       .resample(\"5T\")\n",
    "       .mean()\n",
    "       .bfill()\n",
    "       .unstack(0))\n",
    "rdf.shape"
   ]
  },
  {
   "cell_type": "markdown",
   "metadata": {},
   "source": [
    "*Spoiler:* this data is already sampled into 5-minute periods, however we keep the code as is for data consistency."
   ]
  },
  {
   "cell_type": "markdown",
   "metadata": {},
   "source": [
    "Then we can remove the week-end days from analysis, by anticipating that they may \"pollute\" the cluster formation:"
   ]
  },
  {
   "cell_type": "code",
   "execution_count": 154,
   "metadata": {},
   "outputs": [],
   "source": [
    "rdf = rdf[rdf.index.weekday < 5]"
   ]
  },
  {
   "cell_type": "markdown",
   "metadata": {},
   "source": [
    "And finally, we apply a naive normalization scheme to consider station filling rates instead of bike quantities:"
   ]
  },
  {
   "cell_type": "code",
   "execution_count": 155,
   "metadata": {},
   "outputs": [],
   "source": [
    "rdf = rdf / rdf.max()"
   ]
  },
  {
   "cell_type": "markdown",
   "metadata": {},
   "source": [
    "Once the data is normalized, we can aggregate availability at hour level for clustering step:"
   ]
  },
  {
   "cell_type": "code",
   "execution_count": 156,
   "metadata": {},
   "outputs": [],
   "source": [
    "rdf[\"hour\"] = rdf.index.hour\n",
    "rdf = rdf.groupby(\"hour\").mean()"
   ]
  },
  {
   "cell_type": "markdown",
   "metadata": {},
   "source": [
    "This last operation provides the typical week day profile of each station, at each hour of the day:"
   ]
  },
  {
   "cell_type": "code",
   "execution_count": 160,
   "metadata": {},
   "outputs": [
    {
     "data": {
      "text/html": [
       "<div>\n",
       "<style scoped>\n",
       "    .dataframe tbody tr th:only-of-type {\n",
       "        vertical-align: middle;\n",
       "    }\n",
       "\n",
       "    .dataframe tbody tr th {\n",
       "        vertical-align: top;\n",
       "    }\n",
       "\n",
       "    .dataframe thead th {\n",
       "        text-align: right;\n",
       "    }\n",
       "</style>\n",
       "<table border=\"1\" class=\"dataframe\">\n",
       "  <thead>\n",
       "    <tr style=\"text-align: right;\">\n",
       "      <th>id</th>\n",
       "      <th>1001</th>\n",
       "      <th>1003</th>\n",
       "      <th>1005</th>\n",
       "    </tr>\n",
       "    <tr>\n",
       "      <th>hour</th>\n",
       "      <th></th>\n",
       "      <th></th>\n",
       "      <th></th>\n",
       "    </tr>\n",
       "  </thead>\n",
       "  <tbody>\n",
       "    <tr>\n",
       "      <th>0</th>\n",
       "      <td>0.597336</td>\n",
       "      <td>0.416393</td>\n",
       "      <td>0.632172</td>\n",
       "    </tr>\n",
       "    <tr>\n",
       "      <th>1</th>\n",
       "      <td>0.580208</td>\n",
       "      <td>0.374444</td>\n",
       "      <td>0.633333</td>\n",
       "    </tr>\n",
       "    <tr>\n",
       "      <th>2</th>\n",
       "      <td>0.563542</td>\n",
       "      <td>0.334444</td>\n",
       "      <td>0.621875</td>\n",
       "    </tr>\n",
       "    <tr>\n",
       "      <th>3</th>\n",
       "      <td>0.557292</td>\n",
       "      <td>0.334444</td>\n",
       "      <td>0.591667</td>\n",
       "    </tr>\n",
       "    <tr>\n",
       "      <th>4</th>\n",
       "      <td>0.459375</td>\n",
       "      <td>0.321111</td>\n",
       "      <td>0.586458</td>\n",
       "    </tr>\n",
       "    <tr>\n",
       "      <th>5</th>\n",
       "      <td>0.265625</td>\n",
       "      <td>0.295556</td>\n",
       "      <td>0.472917</td>\n",
       "    </tr>\n",
       "    <tr>\n",
       "      <th>6</th>\n",
       "      <td>0.119792</td>\n",
       "      <td>0.167778</td>\n",
       "      <td>0.337500</td>\n",
       "    </tr>\n",
       "    <tr>\n",
       "      <th>7</th>\n",
       "      <td>0.041667</td>\n",
       "      <td>0.060000</td>\n",
       "      <td>0.197917</td>\n",
       "    </tr>\n",
       "    <tr>\n",
       "      <th>8</th>\n",
       "      <td>0.063542</td>\n",
       "      <td>0.054444</td>\n",
       "      <td>0.163542</td>\n",
       "    </tr>\n",
       "    <tr>\n",
       "      <th>9</th>\n",
       "      <td>0.084375</td>\n",
       "      <td>0.048889</td>\n",
       "      <td>0.211458</td>\n",
       "    </tr>\n",
       "    <tr>\n",
       "      <th>10</th>\n",
       "      <td>0.163542</td>\n",
       "      <td>0.078889</td>\n",
       "      <td>0.245833</td>\n",
       "    </tr>\n",
       "    <tr>\n",
       "      <th>11</th>\n",
       "      <td>0.251042</td>\n",
       "      <td>0.088889</td>\n",
       "      <td>0.248958</td>\n",
       "    </tr>\n",
       "    <tr>\n",
       "      <th>12</th>\n",
       "      <td>0.361458</td>\n",
       "      <td>0.060000</td>\n",
       "      <td>0.231250</td>\n",
       "    </tr>\n",
       "    <tr>\n",
       "      <th>13</th>\n",
       "      <td>0.304167</td>\n",
       "      <td>0.090000</td>\n",
       "      <td>0.257292</td>\n",
       "    </tr>\n",
       "    <tr>\n",
       "      <th>14</th>\n",
       "      <td>0.383333</td>\n",
       "      <td>0.161111</td>\n",
       "      <td>0.382292</td>\n",
       "    </tr>\n",
       "    <tr>\n",
       "      <th>15</th>\n",
       "      <td>0.587500</td>\n",
       "      <td>0.174444</td>\n",
       "      <td>0.470833</td>\n",
       "    </tr>\n",
       "    <tr>\n",
       "      <th>16</th>\n",
       "      <td>0.872917</td>\n",
       "      <td>0.312222</td>\n",
       "      <td>0.579167</td>\n",
       "    </tr>\n",
       "    <tr>\n",
       "      <th>17</th>\n",
       "      <td>0.848958</td>\n",
       "      <td>0.608889</td>\n",
       "      <td>0.751042</td>\n",
       "    </tr>\n",
       "    <tr>\n",
       "      <th>18</th>\n",
       "      <td>0.625000</td>\n",
       "      <td>0.830000</td>\n",
       "      <td>0.707292</td>\n",
       "    </tr>\n",
       "    <tr>\n",
       "      <th>19</th>\n",
       "      <td>0.801042</td>\n",
       "      <td>0.921111</td>\n",
       "      <td>0.861458</td>\n",
       "    </tr>\n",
       "    <tr>\n",
       "      <th>20</th>\n",
       "      <td>0.836458</td>\n",
       "      <td>0.906667</td>\n",
       "      <td>0.920833</td>\n",
       "    </tr>\n",
       "    <tr>\n",
       "      <th>21</th>\n",
       "      <td>0.838542</td>\n",
       "      <td>0.802222</td>\n",
       "      <td>0.839583</td>\n",
       "    </tr>\n",
       "    <tr>\n",
       "      <th>22</th>\n",
       "      <td>0.742708</td>\n",
       "      <td>0.685556</td>\n",
       "      <td>0.779167</td>\n",
       "    </tr>\n",
       "    <tr>\n",
       "      <th>23</th>\n",
       "      <td>0.635417</td>\n",
       "      <td>0.612222</td>\n",
       "      <td>0.756250</td>\n",
       "    </tr>\n",
       "  </tbody>\n",
       "</table>\n",
       "</div>"
      ],
      "text/plain": [
       "id        1001      1003      1005\n",
       "hour                              \n",
       "0     0.597336  0.416393  0.632172\n",
       "1     0.580208  0.374444  0.633333\n",
       "2     0.563542  0.334444  0.621875\n",
       "3     0.557292  0.334444  0.591667\n",
       "4     0.459375  0.321111  0.586458\n",
       "5     0.265625  0.295556  0.472917\n",
       "6     0.119792  0.167778  0.337500\n",
       "7     0.041667  0.060000  0.197917\n",
       "8     0.063542  0.054444  0.163542\n",
       "9     0.084375  0.048889  0.211458\n",
       "10    0.163542  0.078889  0.245833\n",
       "11    0.251042  0.088889  0.248958\n",
       "12    0.361458  0.060000  0.231250\n",
       "13    0.304167  0.090000  0.257292\n",
       "14    0.383333  0.161111  0.382292\n",
       "15    0.587500  0.174444  0.470833\n",
       "16    0.872917  0.312222  0.579167\n",
       "17    0.848958  0.608889  0.751042\n",
       "18    0.625000  0.830000  0.707292\n",
       "19    0.801042  0.921111  0.861458\n",
       "20    0.836458  0.906667  0.920833\n",
       "21    0.838542  0.802222  0.839583\n",
       "22    0.742708  0.685556  0.779167\n",
       "23    0.635417  0.612222  0.756250"
      ]
     },
     "execution_count": 160,
     "metadata": {},
     "output_type": "execute_result"
    }
   ],
   "source": [
    "rdf.iloc[:,:3]"
   ]
  },
  {
   "cell_type": "markdown",
   "metadata": {},
   "source": [
    "### Apply the k-mean algorithm"
   ]
  },
  {
   "cell_type": "markdown",
   "metadata": {},
   "source": [
    "At this point, we have a clusterable dataset! Let apply the easiest step..."
   ]
  },
  {
   "cell_type": "code",
   "execution_count": 161,
   "metadata": {},
   "outputs": [],
   "source": [
    "N_CLUSTERS = 4"
   ]
  },
  {
   "cell_type": "markdown",
   "metadata": {},
   "source": [
    "Here we are, `scikit-learn` makes it as easy as two lines of Python:"
   ]
  },
  {
   "cell_type": "code",
   "execution_count": 162,
   "metadata": {},
   "outputs": [
    {
     "data": {
      "text/plain": [
       "KMeans(algorithm='auto', copy_x=True, init='k-means++', max_iter=300,\n",
       "       n_clusters=4, n_init=10, n_jobs=None, precompute_distances='auto',\n",
       "       random_state=0, tol=0.0001, verbose=0)"
      ]
     },
     "execution_count": 162,
     "metadata": {},
     "output_type": "execute_result"
    }
   ],
   "source": [
    "model = KMeans(n_clusters=N_CLUSTERS, random_state=0)\n",
    "model.fit(rdf.T)\n",
    "model"
   ]
  },
  {
   "cell_type": "code",
   "execution_count": 183,
   "metadata": {},
   "outputs": [],
   "source": [
    "df_labels = pd.DataFrame({\"id_station\": rdf.columns, \"labels\": model.labels_})\n",
    "df_centroids = pd.DataFrame(model.cluster_centers_, columns=[\"h{:02d}\".format(i) for i in range(24)]).reset_index()"
   ]
  },
  {
   "cell_type": "markdown",
   "metadata": {},
   "source": [
    "For each station, we have a cluster..."
   ]
  },
  {
   "cell_type": "code",
   "execution_count": 170,
   "metadata": {},
   "outputs": [
    {
     "data": {
      "text/html": [
       "<div>\n",
       "<style scoped>\n",
       "    .dataframe tbody tr th:only-of-type {\n",
       "        vertical-align: middle;\n",
       "    }\n",
       "\n",
       "    .dataframe tbody tr th {\n",
       "        vertical-align: top;\n",
       "    }\n",
       "\n",
       "    .dataframe thead th {\n",
       "        text-align: right;\n",
       "    }\n",
       "</style>\n",
       "<table border=\"1\" class=\"dataframe\">\n",
       "  <thead>\n",
       "    <tr style=\"text-align: right;\">\n",
       "      <th></th>\n",
       "      <th>id_station</th>\n",
       "      <th>labels</th>\n",
       "    </tr>\n",
       "  </thead>\n",
       "  <tbody>\n",
       "    <tr>\n",
       "      <th>0</th>\n",
       "      <td>1001</td>\n",
       "      <td>2</td>\n",
       "    </tr>\n",
       "    <tr>\n",
       "      <th>1</th>\n",
       "      <td>1003</td>\n",
       "      <td>1</td>\n",
       "    </tr>\n",
       "    <tr>\n",
       "      <th>2</th>\n",
       "      <td>1005</td>\n",
       "      <td>2</td>\n",
       "    </tr>\n",
       "    <tr>\n",
       "      <th>3</th>\n",
       "      <td>1012</td>\n",
       "      <td>3</td>\n",
       "    </tr>\n",
       "    <tr>\n",
       "      <th>4</th>\n",
       "      <td>1013</td>\n",
       "      <td>2</td>\n",
       "    </tr>\n",
       "  </tbody>\n",
       "</table>\n",
       "</div>"
      ],
      "text/plain": [
       "  id_station  labels\n",
       "0       1001       2\n",
       "1       1003       1\n",
       "2       1005       2\n",
       "3       1012       3\n",
       "4       1013       2"
      ]
     },
     "execution_count": 170,
     "metadata": {},
     "output_type": "execute_result"
    }
   ],
   "source": [
    "df_labels.head()"
   ]
  },
  {
   "cell_type": "markdown",
   "metadata": {},
   "source": [
    "...and for each cluster, we have the centroid expressed as a typical week day profile!"
   ]
  },
  {
   "cell_type": "code",
   "execution_count": 184,
   "metadata": {},
   "outputs": [
    {
     "data": {
      "text/html": [
       "<div>\n",
       "<style scoped>\n",
       "    .dataframe tbody tr th:only-of-type {\n",
       "        vertical-align: middle;\n",
       "    }\n",
       "\n",
       "    .dataframe tbody tr th {\n",
       "        vertical-align: top;\n",
       "    }\n",
       "\n",
       "    .dataframe thead th {\n",
       "        text-align: right;\n",
       "    }\n",
       "</style>\n",
       "<table border=\"1\" class=\"dataframe\">\n",
       "  <thead>\n",
       "    <tr style=\"text-align: right;\">\n",
       "      <th></th>\n",
       "      <th>index</th>\n",
       "      <th>h00</th>\n",
       "      <th>h01</th>\n",
       "      <th>h02</th>\n",
       "      <th>h03</th>\n",
       "      <th>h04</th>\n",
       "      <th>h05</th>\n",
       "      <th>h06</th>\n",
       "      <th>h07</th>\n",
       "      <th>h08</th>\n",
       "      <th>...</th>\n",
       "      <th>h14</th>\n",
       "      <th>h15</th>\n",
       "      <th>h16</th>\n",
       "      <th>h17</th>\n",
       "      <th>h18</th>\n",
       "      <th>h19</th>\n",
       "      <th>h20</th>\n",
       "      <th>h21</th>\n",
       "      <th>h22</th>\n",
       "      <th>h23</th>\n",
       "    </tr>\n",
       "  </thead>\n",
       "  <tbody>\n",
       "    <tr>\n",
       "      <th>0</th>\n",
       "      <td>0</td>\n",
       "      <td>0.221598</td>\n",
       "      <td>0.225618</td>\n",
       "      <td>0.230588</td>\n",
       "      <td>0.240347</td>\n",
       "      <td>0.268194</td>\n",
       "      <td>0.313796</td>\n",
       "      <td>0.388907</td>\n",
       "      <td>0.548083</td>\n",
       "      <td>0.589657</td>\n",
       "      <td>...</td>\n",
       "      <td>0.510559</td>\n",
       "      <td>0.381177</td>\n",
       "      <td>0.244420</td>\n",
       "      <td>0.203486</td>\n",
       "      <td>0.199108</td>\n",
       "      <td>0.192941</td>\n",
       "      <td>0.174875</td>\n",
       "      <td>0.161158</td>\n",
       "      <td>0.166550</td>\n",
       "      <td>0.168144</td>\n",
       "    </tr>\n",
       "    <tr>\n",
       "      <th>1</th>\n",
       "      <td>1</td>\n",
       "      <td>0.399133</td>\n",
       "      <td>0.396970</td>\n",
       "      <td>0.394776</td>\n",
       "      <td>0.388696</td>\n",
       "      <td>0.386910</td>\n",
       "      <td>0.380874</td>\n",
       "      <td>0.341407</td>\n",
       "      <td>0.309629</td>\n",
       "      <td>0.309802</td>\n",
       "      <td>...</td>\n",
       "      <td>0.326010</td>\n",
       "      <td>0.337950</td>\n",
       "      <td>0.355072</td>\n",
       "      <td>0.400034</td>\n",
       "      <td>0.422547</td>\n",
       "      <td>0.436883</td>\n",
       "      <td>0.441695</td>\n",
       "      <td>0.440805</td>\n",
       "      <td>0.428530</td>\n",
       "      <td>0.425325</td>\n",
       "    </tr>\n",
       "    <tr>\n",
       "      <th>2</th>\n",
       "      <td>2</td>\n",
       "      <td>0.742642</td>\n",
       "      <td>0.748009</td>\n",
       "      <td>0.748207</td>\n",
       "      <td>0.731734</td>\n",
       "      <td>0.684697</td>\n",
       "      <td>0.609994</td>\n",
       "      <td>0.453487</td>\n",
       "      <td>0.315072</td>\n",
       "      <td>0.278896</td>\n",
       "      <td>...</td>\n",
       "      <td>0.302810</td>\n",
       "      <td>0.365939</td>\n",
       "      <td>0.478828</td>\n",
       "      <td>0.547905</td>\n",
       "      <td>0.584031</td>\n",
       "      <td>0.616358</td>\n",
       "      <td>0.649894</td>\n",
       "      <td>0.683145</td>\n",
       "      <td>0.714461</td>\n",
       "      <td>0.736748</td>\n",
       "    </tr>\n",
       "    <tr>\n",
       "      <th>3</th>\n",
       "      <td>3</td>\n",
       "      <td>0.645313</td>\n",
       "      <td>0.643882</td>\n",
       "      <td>0.642110</td>\n",
       "      <td>0.640843</td>\n",
       "      <td>0.635387</td>\n",
       "      <td>0.622695</td>\n",
       "      <td>0.605428</td>\n",
       "      <td>0.598349</td>\n",
       "      <td>0.606151</td>\n",
       "      <td>...</td>\n",
       "      <td>0.600755</td>\n",
       "      <td>0.589948</td>\n",
       "      <td>0.581647</td>\n",
       "      <td>0.596499</td>\n",
       "      <td>0.620747</td>\n",
       "      <td>0.629145</td>\n",
       "      <td>0.636625</td>\n",
       "      <td>0.644712</td>\n",
       "      <td>0.648144</td>\n",
       "      <td>0.646979</td>\n",
       "    </tr>\n",
       "  </tbody>\n",
       "</table>\n",
       "<p>4 rows × 25 columns</p>\n",
       "</div>"
      ],
      "text/plain": [
       "   index       h00       h01       h02       h03       h04       h05  \\\n",
       "0      0  0.221598  0.225618  0.230588  0.240347  0.268194  0.313796   \n",
       "1      1  0.399133  0.396970  0.394776  0.388696  0.386910  0.380874   \n",
       "2      2  0.742642  0.748009  0.748207  0.731734  0.684697  0.609994   \n",
       "3      3  0.645313  0.643882  0.642110  0.640843  0.635387  0.622695   \n",
       "\n",
       "        h06       h07       h08  ...       h14       h15       h16       h17  \\\n",
       "0  0.388907  0.548083  0.589657  ...  0.510559  0.381177  0.244420  0.203486   \n",
       "1  0.341407  0.309629  0.309802  ...  0.326010  0.337950  0.355072  0.400034   \n",
       "2  0.453487  0.315072  0.278896  ...  0.302810  0.365939  0.478828  0.547905   \n",
       "3  0.605428  0.598349  0.606151  ...  0.600755  0.589948  0.581647  0.596499   \n",
       "\n",
       "        h18       h19       h20       h21       h22       h23  \n",
       "0  0.199108  0.192941  0.174875  0.161158  0.166550  0.168144  \n",
       "1  0.422547  0.436883  0.441695  0.440805  0.428530  0.425325  \n",
       "2  0.584031  0.616358  0.649894  0.683145  0.714461  0.736748  \n",
       "3  0.620747  0.629145  0.636625  0.644712  0.648144  0.646979  \n",
       "\n",
       "[4 rows x 25 columns]"
      ]
     },
     "execution_count": 184,
     "metadata": {},
     "output_type": "execute_result"
    }
   ],
   "source": [
    "df_centroids.head()"
   ]
  },
  {
   "cell_type": "markdown",
   "metadata": {},
   "source": [
    "## Store the clustering outputs to the application database"
   ]
  },
  {
   "cell_type": "markdown",
   "metadata": {},
   "source": [
    "We previously clustered the shared-bike stations and deduced typical week day profiles, the job is almost done for ending the loop: we still have to store this new produced data to the database.\n",
    "\n",
    "As the produced outputs highly depends on the chosen time period, it is recommended to store the start and stop datetimes as well: this modelization choice will allow us to store multiple clustering outputs into the database."
   ]
  },
  {
   "cell_type": "code",
   "execution_count": 185,
   "metadata": {},
   "outputs": [
    {
     "data": {
      "text/html": [
       "<div>\n",
       "<style scoped>\n",
       "    .dataframe tbody tr th:only-of-type {\n",
       "        vertical-align: middle;\n",
       "    }\n",
       "\n",
       "    .dataframe tbody tr th {\n",
       "        vertical-align: top;\n",
       "    }\n",
       "\n",
       "    .dataframe thead th {\n",
       "        text-align: right;\n",
       "    }\n",
       "</style>\n",
       "<table border=\"1\" class=\"dataframe\">\n",
       "  <thead>\n",
       "    <tr style=\"text-align: right;\">\n",
       "      <th></th>\n",
       "      <th>id_station</th>\n",
       "      <th>labels</th>\n",
       "      <th>start</th>\n",
       "      <th>stop</th>\n",
       "    </tr>\n",
       "  </thead>\n",
       "  <tbody>\n",
       "    <tr>\n",
       "      <th>0</th>\n",
       "      <td>1001</td>\n",
       "      <td>2</td>\n",
       "      <td>2019-08-07 00:00:00+00:00</td>\n",
       "      <td>2019-08-14 00:00:00+00:00</td>\n",
       "    </tr>\n",
       "    <tr>\n",
       "      <th>1</th>\n",
       "      <td>1003</td>\n",
       "      <td>1</td>\n",
       "      <td>2019-08-07 00:00:00+00:00</td>\n",
       "      <td>2019-08-14 00:00:00+00:00</td>\n",
       "    </tr>\n",
       "    <tr>\n",
       "      <th>2</th>\n",
       "      <td>1005</td>\n",
       "      <td>2</td>\n",
       "      <td>2019-08-07 00:00:00+00:00</td>\n",
       "      <td>2019-08-14 00:00:00+00:00</td>\n",
       "    </tr>\n",
       "    <tr>\n",
       "      <th>3</th>\n",
       "      <td>1012</td>\n",
       "      <td>3</td>\n",
       "      <td>2019-08-07 00:00:00+00:00</td>\n",
       "      <td>2019-08-14 00:00:00+00:00</td>\n",
       "    </tr>\n",
       "    <tr>\n",
       "      <th>4</th>\n",
       "      <td>1013</td>\n",
       "      <td>2</td>\n",
       "      <td>2019-08-07 00:00:00+00:00</td>\n",
       "      <td>2019-08-14 00:00:00+00:00</td>\n",
       "    </tr>\n",
       "  </tbody>\n",
       "</table>\n",
       "</div>"
      ],
      "text/plain": [
       "  id_station  labels                     start                      stop\n",
       "0       1001       2 2019-08-07 00:00:00+00:00 2019-08-14 00:00:00+00:00\n",
       "1       1003       1 2019-08-07 00:00:00+00:00 2019-08-14 00:00:00+00:00\n",
       "2       1005       2 2019-08-07 00:00:00+00:00 2019-08-14 00:00:00+00:00\n",
       "3       1012       3 2019-08-07 00:00:00+00:00 2019-08-14 00:00:00+00:00\n",
       "4       1013       2 2019-08-07 00:00:00+00:00 2019-08-14 00:00:00+00:00"
      ]
     },
     "execution_count": 185,
     "metadata": {},
     "output_type": "execute_result"
    }
   ],
   "source": [
    "df_labels.loc[:, \"start\"] = start\n",
    "df_labels.loc[:, \"stop\"] = stop\n",
    "df_centroids.loc[:, \"start\"] = start\n",
    "df_centroids.loc[:, \"stop\"] = stop\n",
    "df_labels.head()"
   ]
  },
  {
   "cell_type": "code",
   "execution_count": 181,
   "metadata": {},
   "outputs": [],
   "source": [
    "engine.execute(\"DROP TABLE IF EXISTS lyon.cluster;\")\n",
    "df_labels.to_sql(\"cluster\", schema=\"lyon\", con=engine, index=False)"
   ]
  },
  {
   "cell_type": "code",
   "execution_count": 186,
   "metadata": {},
   "outputs": [],
   "source": [
    "engine.execute(\"DROP TABLE IF EXISTS lyon.centroid;\")\n",
    "df_centroids.to_sql(\"centroid\", schema=\"lyon\", con=engine, index=False)"
   ]
  },
  {
   "cell_type": "markdown",
   "metadata": {},
   "source": [
    "That's all folks, for populating the database!\n",
    "\n",
    "Now the database contains:\n",
    "- the shared-bike station description;\n",
    "- one week of bike availability timeseries;\n",
    "- the clustering outputs."
   ]
  }
 ],
 "metadata": {
  "kernelspec": {
   "display_name": "Python 3",
   "language": "python",
   "name": "python3"
  },
  "language_info": {
   "codemirror_mode": {
    "name": "ipython",
    "version": 3
   },
   "file_extension": ".py",
   "mimetype": "text/x-python",
   "name": "python",
   "nbconvert_exporter": "python",
   "pygments_lexer": "ipython3",
   "version": "3.6.5"
  }
 },
 "nbformat": 4,
 "nbformat_minor": 2
}
